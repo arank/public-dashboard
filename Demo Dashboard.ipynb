{
 "cells": [
  {
   "cell_type": "code",
   "execution_count": 1,
   "metadata": {
    "extensions": {
     "jupyter_dashboards": {
      "version": 1,
      "views": {
       "grid_default": {
        "hidden": true
       },
       "report_default": {
        "hidden": true
       }
      }
     }
    }
   },
   "outputs": [
    {
     "data": {
      "text/html": [
       "<style>.container { width:100% !important; }</style>"
      ],
      "text/plain": [
       "<IPython.core.display.HTML object>"
      ]
     },
     "metadata": {},
     "output_type": "display_data"
    },
    {
     "data": {
      "text/html": [
       "<h1>Welcome to the IV Lab Dashboard!</h1><h2>This area titled 'Hidden Cells' is where the available Wizards outside of your workspace live<h2/><h3>To move these up into your workspace hover over and click the button in the top right</h3><h4>And to move widgets down from your workspace above hover over and click X the button in the top right</h4>"
      ],
      "text/plain": [
       "<IPython.core.display.HTML object>"
      ]
     },
     "metadata": {},
     "output_type": "display_data"
    }
   ],
   "source": [
    "import sys\n",
    "from datetime import datetime, timedelta\n",
    "import pandas as pd\n",
    "import numpy as np\n",
    "sys.path.append(\"/Users/arankhanna/Dropbox/Dolores/Iverson\")\n",
    "\n",
    "from IPython.display import display, display_javascript\n",
    "from IPython.display import clear_output\n",
    "import ipywidgets as widgets\n",
    "from IPython.display import Javascript\n",
    "from IPython.core.display import display, HTML\n",
    "\n",
    "# This shit should always run for dashboards\n",
    "display(HTML(\"<style>.container { width:100% !important; }</style>\"))\n",
    "\n",
    "# DECLARE ALL INITAL TRACKERS\n",
    "from features.historical_marketcap_tracker import Crypto_Marketcap_Tracker\n",
    "from features.index_tracker import Crypto_Index_Tracker\n",
    "start_time = datetime.strptime(\"01/16/17 00:00\", \"%m/%d/%y %H:%M\")\n",
    "end_time = datetime.strptime(\"03/20/18 00:00\", \"%m/%d/%y %H:%M\")\n",
    "mt = Crypto_Marketcap_Tracker(start_time, end_time)\n",
    "\n",
    "all_products = [x[0] for x in mt.get_all_assets()]\n",
    "all_products.sort()\n",
    "\n",
    "\n",
    "# State for Dashboard\n",
    "done = False\n",
    "widget_ids = []\n",
    "\n",
    "# Hi I'm a widget message\n",
    "display(HTML(\"<h1>Welcome to the IV Lab Dashboard!</h1>\\\n",
    "<h2>This area titled 'Hidden Cells' is where the available Wizards outside of your workspace live<h2/>\\\n",
    "<h3>To move these up into your workspace hover over and click the button in the top right</h3>\\\n",
    "<h4>And to move widgets down from your workspace above hover over and click X the button in the top right</h4>\"))"
   ]
  },
  {
   "cell_type": "code",
   "execution_count": 2,
   "metadata": {
    "extensions": {
     "jupyter_dashboards": {
      "version": 1,
      "views": {
       "grid_default": {
        "col": 0,
        "height": 12,
        "hidden": false,
        "row": 0,
        "width": 3
       },
       "report_default": {
        "hidden": false
       }
      }
     }
    }
   },
   "outputs": [
    {
     "name": "stdout",
     "output_type": "stream",
     "text": [
      "Tracker Control Panel\n"
     ]
    },
    {
     "data": {
      "application/vnd.jupyter.widget-view+json": {
       "model_id": "7cf11551ad4348369ddd64e82bb9381c",
       "version_major": 2,
       "version_minor": 0
      },
      "text/html": [
       "<p>Failed to display Jupyter Widget of type <code>VBox</code>.</p>\n",
       "<p>\n",
       "  If you're reading this message in Jupyter Notebook or JupyterLab, it may mean\n",
       "  that the widgets JavaScript is still loading. If this message persists, it\n",
       "  likely means that the widgets JavaScript library is either not installed or\n",
       "  not enabled. See the <a href=\"https://ipywidgets.readthedocs.io/en/stable/user_install.html\">Jupyter\n",
       "  Widgets Documentation</a> for setup instructions.\n",
       "</p>\n",
       "<p>\n",
       "  If you're reading this message in another notebook frontend (for example, a static\n",
       "  rendering on GitHub or <a href=\"https://nbviewer.jupyter.org/\">NBViewer</a>),\n",
       "  it may mean that your frontend doesn't currently support widgets.\n",
       "</p>\n"
      ],
      "text/plain": [
       "VBox(children=(SelectMultiple(description=u'Assets', options=(u'$$$', u'$PAC', u'1337', u'1ST', u'2GIVE', u'300', u'42', u'611', u'808', u'888', u'8BIT', u'AAC', u'ABC', u'ABJ', u'ABN', u'ABT', u'ABY', u'AC', u'ACAT', u'ACC', u'ACE', u'ACES', u'ACN', u'ACOIN', u'ACP', u'ACT', u'ADA', u'ADB', u'ADC', u'ADCN', u'ADK', u'ADST', u'ADT', u'ADX', u'ADZ', u'AE', u'AEON', u'AERM', u'AGI', u'AGLC', u'AGRS', u'AHT', u'AI', u'AIB', u'AID', u'AIDOC', u'AION', u'AIR', u'AIT', u'AIX', u'AKY', u'ALIS', u'ALL', u'ALQO', u'ALT', u'ALTC', u'ALTCOM', u'AMB', u'AMBER', u'AMM', u'AMMO', u'AMP', u'AMS', u'ANC', u'ANI', u'ANT', u'ANTI', u'ANTX', u'APC', u'APPC', u'APX', u'ARB', u'ARC', u'ARCO', u'ARCT', u'ARDR', u'ARG', u'ARGUS', u'ARI', u'ARK', u'ARN', u'ART', u'ARY', u'ASAFE2', u'ASN', u'AST', u'ASTRO', u'ATB', u'ATL', u'ATM', u'ATMC', u'ATMS', u'ATN', u'ATOM', u'ATS', u'ATX', u'AU', u'AUR', u'AURA', u'AUTO', u'AV', u'AVH', u'AVT', u'AWR', u'AXIOM', u'AXP', u'B2B', u'B2X', u'B@', u'BAC', u'BAR', u'BAS', u'BASH', u'BAT', u'BAX', u'BAY', u'BBP', u'BBR', u'BBT', u'BCA', u'BCC', u'BCD', u'BCDN', u'BCF', u'BCH', u'BCN', u'BCO', u'BCPT', u'BCX', u'BCY', u'BDG', u'BDL', u'BEE', u'BELA', u'BENJI', u'BERN', u'BEST', u'BET', u'BEZ', u'BIG', u'BIGUP', u'BIO', u'BIOB', u'BIOS', u'BIP', u'BIRDS', u'BIS', u'BIT', u'BITB', u'BITBTC', u'BITCF', u'BITCNY', u'BITEUR', u'BITGOLD', u'BITOK', u'BITS', u'BITSILVER', u'BITUSD', u'BITZ', u'BIX', u'BKX', u'BLAZR', u'BLC', u'BLITZ', u'BLK', u'BLN', u'BLOCK', u'BLOCKPAY', u'BLRY', u'BLT', u'BLU', u'BLUE', u'BLZ', u'BMC', u'BNB', u'BNT', u'BNTY', u'BNX', u'BOAT', u'BOLI', u'BON', u'BOS', u'BOST', u'BOT', u'BPC', u'BPL', u'BPT', u'BQ', u'BRAIN', u'BRAT', u'BRD', u'BRIA', u'BRIT', u'BRK', u'BRO', u'BRX', u'BSC', u'BSD', u'BSN', u'BSR', u'BSTAR', u'BSTY', u'BT2', u'BTA', u'BTB', u'BTBc', u'BTC', u'BTCA', u'BTCD', u'BTCM', u'BTCP', u'BTCR', u'BTCRED', u'BTCS', u'BTCZ', u'BTDX', u'BTE', u'BTG', u'BTM', u'BTO', u'BTPL', u'BTQ', u'BTS', u'BTW', u'BTWTY', u'BTX', u'BUB', u'BUCKS', u'BUMBA', u'BUN', u'BURST', u'BUZZ', u'BWK', u'BXC', u'BXT', u'BYC', u'C2', u'C20', u'CAB', u'CACH', u'CAG', u'CALC', u'CAN', u'CANDY', u'CANN', u'CAPP', u'CARBON', u'CAS', u'CASH', u'CAT', u'CBX', u'CC', u'CCM100', u'CCN', u'CCO', u'CCRB', u'CCT', u'CDN', u'CDT', u'CDX', u'CEFS', u'CENNZ', u'CESC', u'CF', u'CFC', u'CFD', u'CFI', u'CFT', u'CFUN', u'CHAN', u'CHAT', u'CHC', u'CHEAP', u'CHESS', u'CHIPS', u'CHP', u'CHSB', u'CJ', u'CL', u'CLAM', u'CLD', u'CLOAK', u'CLUB', u'CME', u'CMP', u'CMPCO', u'CMS', u'CMT', u'CND', u'CNNC', u'CNO', u'CNT', u'CNX', u'COAL', u'COB', u'COFI', u'COLX', u'CON', u'CONX', u'COR', u'COSS', u'COUPE', u'COV', u'COVAL', u'COXST', u'CPAY', u'CPC', u'CPN', u'CPY', u'CRAVE', u'CRB', u'CRC', u'CRDNC', u'CREA', u'CRED', u'CREDO', u'CREVA', u'CRM', u'CRPT', u'CRT', u'CRW', u'CRX', u'CS', u'CSNO', u'CTIC2', u'CTIC3', u'CTO', u'CTR', u'CTX', u'CUBE', u'CURE', u'CV', u'CV2', u'CVC', u'CVCOIN', u'CWXT', u'CXO', u'CXT', u'CYC', u'CYDER', u'CYP', u'DADI', u'DAI', u'DALC', u'DAR', u'DASH', u'DASHS', u'DAT', u'DATA', u'DATX', u'DAV', u'DAXX', u'DAY', u'DBC', u'DBET', u'DBG', u'DBIX', u'DBTC', u'DCN', u'DCR', u'DCRE', u'DCT', u'DCY', u'DDD', u'DDF', u'DEB', u'DEM', u'DENT', u'DES', u'DEUS', u'DEW', u'DFS', u'DFT', u'DGB', u'DGC', u'DGCS', u'DGD', u'DGPT', u'DIBC', u'DICE', u'DIM', u'DIME', u'DISK', u'DIVX', u'DIX', u'DLC', u'DLISK', u'DLT', u'DMB', u'DMC', u'DMD', u'DMT', u'DNA', u'DNR', u'DNT', u'DOGE', u'DOLLAR', u'DON', u'DOPE', u'DOT', u'DOVU', u'DP', u'DPY', u'DRGN', u'DRM', u'DROP', u'DRP', u'DRPU', u'DRS', u'DRT', u'DRXNE', u'DSH', u'DSR', u'DTA', u'DTB', u'DTC', u'DTH', u'DTR', u'DUB', u'DUO', u'DUTCH', u'DXT', u'DYN', u'EAC', u'EAG', u'EAGLE', u'EBCH', u'EBET', u'EBST', u'EBT', u'EBTC', u'ECA', u'ECASH', u'ECC', u'ECH', u'ECN', u'ECO', u'ECOB', u'EDG', u'EDO', u'EDR', u'EDRC', u'EFL', u'EFYT', u'EGC', u'EGG', u'EGO', u'EGOLD', u'EKO', u'EKT', u'EL', u'ELA', u'ELC', u'ELE', u'ELEC', u'ELF', u'ELITE', u'ELIX', u'ELLA', u'ELS', u'ELTCOIN', u'EMC', u'EMC2', u'EMD', u'EMV', u'ENG', u'ENJ', u'ENRG', u'ENT', u'EOS', u'EOT', u'EPC', u'EPY', u'EQL', u'EQT', u'ERA', u'ERC', u'ERC20', u'ERO', u'ERY', u'ESC', u'ESP', u'ESZ', u'ETBS', u'ETC', u'ETG', u'ETH', u'ETHD', u'ETHOS', u'ETN', u'ETP', u'ETT', u'EUC', u'EVC', u'EVE', u'EVIL', u'EVN', u'EVO', u'EVR', u'EVX', u'EXCL', u'EXN', u'EXP', u'EXRN', u'EXY', u'EZT', u'FAIR', u'FAP', u'FAZZ', u'FC2', u'FCN', u'FCT', u'FDX', u'FID', u'FIL', u'FIMK', u'FIRE', u'FJC', u'FLAP', u'FLASH', u'FLAX', u'FLDC', u'FLIK', u'FLIXX', u'FLO', u'FLT', u'FLUZ', u'FLY', u'FNC', u'FONZ', u'FOR', u'FOTA', u'FRC', u'FRCT', u'FRD', u'FRGC', u'FRK', u'FRN', u'FRST', u'FRWC', u'FSN', u'FST', u'FTC', u'FUCK', u'FUEL', u'FUN', u'FUNC', u'FUTC', u'FUZZ', u'FXE', u'FYN', u'FYP', u'G3N', u'GAIA', u'GAIN', u'GAM', u'GAME', u'GAP', u'GARY', u'GAS', u'GAT', u'GAY', u'GB', u'GBC', u'GBG', u'GBX', u'GBYTE', u'GCC', u'GCN', u'GCR', u'GCS', u'GDC', u'GEERT', u'GEM', u'GEO', u'GET', u'GETX', u'GJC', u'GLA', u'GLC', u'GLD', u'GLS', u'GLT', u'GML', u'GMT', u'GMX', u'GNO', u'GNT', u'GNX', u'GOD', u'GOLF', u'GOLOS', u'GOOD', u'GP', u'GPL', u'GPU', u'GRC', u'GRE', u'GRFT', u'GRID', u'GRIM', u'GRLC', u'GRN', u'GRS', u'GRWI', u'GRX', u'GSR', u'GTC', u'GTO', u'GUESS', u'GUN', u'GUP', u'GVT', u'GXS', u'HAC', u'HAL', u'HALLO', u'HAT', u'HAV', u'HBC', u'HBN', u'HBT', u'HC', u'HCC', u'HDG', u'HDLB', u'HEAT', u'HERO', u'HGT', u'HIGH', u'HIRE', u'HKN', u'HLC', u'HMC', u'HMP', u'HMQ', u'HNC', u'HODL', u'HOLD', u'HONEY', u'HORSE', u'HOT', u'HPB', u'HPC', u'HPY', u'HQX', u'HSR', u'HST', u'HT', u'HTC', u'HTML', u'HUC', u'HUSH', u'HVCO', u'HVN', u'HWC', u'HXX', u'HYP', u'HYPER', u'I0C', u'IBANK', u'IC', u'ICE', u'ICN', u'ICOB', u'ICON', u'ICOO', u'ICOS', u'ICX', u'IDH', u'IDT', u'IDXM', u'IETH', u'IFC', u'IFLT', u'IFT', u'IGNIS', u'IHT', u'IMPS', u'IMS', u'IMX', u'INCNT', u'IND', u'INDI', u'INDIA', u'INF', u'INFX', u'ING', u'INK', u'INN', u'INPAY', u'INS', u'INSN', u'INSTAR', u'INT', u'INXT', u'IOC', u'ION', u'IOP', u'IOST', u'IPBC', u'IPC', u'IPL', u'IQT', u'IRL', u'ISL', u'ITC', u'ITI', u'ITNS', u'ITT', u'IVZ', u'IXC', u'IXT', u'J', u'J8T', u'JC', u'JET', u'JEW', u'JIN', u'JIYO', u'JNT', u'JOBS', u'JS', u'JWL', u'KARMA', u'KASHH', u'KAYI', u'KB3', u'KBR', u'KCASH', u'KCS', u'KDC', u'KED', u'KEK', u'KEY', u'KICK', u'KIN', u'KLC', u'KLN', u'KMD', u'KNC', u'KOBO', u'KORE', u'KRB', u'KRM', u'KRONE', u'KURT', u'KUSH', u'KZC', u'LA', u'LALA', u'LANA', u'LAZ', u'LBC', u'LBTC', u'LCC', u'LCP', u'LCT', u'LDC', u'LDCN', u'LDOGE', u'LEA', u'LEAF', u'LEDU', u'LEND', u'LEO', u'LEPEN', u'LET', u'LEV', u'LEVO', u'LGD', u'LIFE', u'LIGHT', u'LINDA', u'LINK', u'LINX', u'LIR', u'LKC', u'LKK', u'LLT', u'LMC', u'LNK', u'LOC', u'LOCI', u'LOG', u'LOOM', u'LRC', u'LSK', u'LTB', u'LTC', u'LTCR', u'LTCU', u'LTH', u'LUN', u'LUNA', u'LUX', u'LVPS', u'LYM', u'MAC', u'MAD', u'MAG', u'MAGE', u'MAGN', u'MAID', u'MAN', u'MANA', u'MANNA', u'MAO', u'MAR', u'MARS', u'MARX', u'MAX', u'MAY', u'MBI', u'MBL', u'MBRS', u'MCAP', u'MCI', u'MCO', u'MCR', u'MCRN', u'MDA', u'MDC', u'MDS', u'MDT', u'MEC', u'MED', u'MEE', u'MEME', u'MER', u'METAL', u'MGC', u'MGM', u'MGO', u'MILO', u'MINEX', u'MINT', u'MIOTA', u'MKR', u'MLM', u'MLN', u'MMXVI', u'MNC', u'MND', u'MNE', u'MNM', u'MNTP', u'MNX', u'MOAC', u'MOBI', u'MOD', u'MOF', u'MOIN', u'MOJO', u'MONA', u'MONETA', u'MONK', u'MOON', u'MOT', u'MOTO', u'MRJA', u'MRT', u'MSCN', u'MSD', u'MSP', u'MST', u'MTH', u'MTL', u'MTLMC3', u'MTN', u'MTNC', u'MTX', u'MUE', u'MUSE', u'MUSIC', u'MVC', u'MWAT', u'MXT', u'MYB', u'MYST', u'MZC', u'NAMO', u'NANO', u'NANOX', u'NAS', u'NAV', u'NBIT', u'NCASH', u'NDC', u'NEBL', u'NEO', u'NEOG', u'NEOS', u'NET', u'NETKO', u'NEU', u'NEVA', u'NEWB', u'NGC', u'NIO', u'NKA', u'NKC', u'NLC2', u'NLG', u'NMC', u'NMR', u'NMS', u'NOBL', u'NODC', u'NOTE', u'NOX', u'NRO', u'NSR', u'NTC', u'NTK', u'NTO', u'NTRN', u'NTWK', u'NUKO', u'NULS', u'NUMUS', u'NVC', u'NVST', u'NXC', u'NXS', u'NXT', u'NYAN', u'NYC', u'OAX', u'OBITS', u'OC', u'OCC', u'OCL', u'OCN', u'OCOW', u'OCT', u'ODN', u'OF', u'OFF', u'OK', u'OMC', u'OMG', u'OMNI', u'ONG', u'ONION', u'ONT', u'ONX', u'OP', u'OPAL', u'OPC', u'OPES', u'OPT', u'ORB', u'ORE', u'ORLY', u'ORME', u'OS76', u'OST', u'OTN', u'OTX', u'OX', u'OXY', u'P7C', u'PAK', u'PARETO', u'PART', u'PASC', u'PASL', u'PAY', u'PAYP', u'PBL', u'PBT', u'PCN', u'PCOIN', u'PCS', u'PDC', u'PDG', u'PEPECASH', u'PEX', u'PFR', u'PGL', u'PHO', u'PHR', u'PHS', u'PIE', u'PIGGY', u'PING', u'PINK', u'PIPL', u'PIRL', u'PIVX', u'PIX', u'PIZZA', u'PKB', u'PKT', u'PLACO', u'PLAY', u'PLBT', u'PLC', u'PLNC', u'PLR', u'PLU', u'PLX', u'PND', u'PNX', u'POA', u'POE', u'POKE', u'POLIS', u'POLL', u'POLY', u'PONZI', u'POP', u'POS', u'POST', u'POSW', u'POT', u'POWR', u'PPC', u'PPP', u'PPT', u'PPY', u'PR', u'PRA', u'PRC', u'PRE', u'PRES', u'PRG', u'PRIMU', u'PRIX', u'PRL', u'PRM', u'PRN', u'PRO', u'PROC', u'PRS', u'PRX', u'PST', u'PSY', u'PTC', u'PTOY', u'PULSE', u'PURA', u'PURE', u'PUT', u'PX', u'PXC', u'PXI', u'PXS', u'PYLNT', u'PZM', u'Q2C', u'QASH', u'QAU', u'QBC', u'QBIC', u'QBT', u'QCN', u'QLC', u'QORA', u'QRK', u'QRL', u'QSP', u'QTL', u'QTUM', u'QUBE', u'QUN', u'QVT', u'QWARK', u'R', u'RADS', u'RAIN', u'RBBT', u'RBIES', u'RBT', u'RBX', u'RBY', u'RC', u'RCN', u'RCT', u'RDD', u'RDN', u'READ', u'REAL', u'REBL', u'REC', u'RED', u'REE', u'REF', u'REGA', u'REM', u'REN', u'REP', u'REQ', u'REX', u'RFR', u'RHFC', u'RHOC', u'RIC', u'RICHX', u'RIDE', u'RISE', u'RIYA', u'RKC', u'RKT', u'RLC', u'RLT', u'RMC', u'RMT', u'RNS', u'RNT', u'ROOFS', u'ROYAL', u'RPC', u'RPX', u'RSGP', u'RUBIT', u'RUFF', u'RUNNERS', u'RUP', u'RUPX', u'RUSTBITS', u'RVN', u'RVR', u'RVT', u'RYZ', u'SAC', u'SAFEX', u'SAGA', u'SAK', u'SALT', u'SAN', u'SANDG', u'SAY', u'SBC', u'SBD', u'SBTC', u'SC', u'SCL', u'SCORE', u'SCRT', u'SCS', u'SCT', u'SDC', u'SDP', u'SDRN', u'SEND', u'SENSE', u'SEQ', u'SETH', u'SEXC', u'SFC', u'SFE', u'SGR', u'SH', u'SHA', u'SHDW', u'SHELL', u'SHIFT', u'SHIP', u'SHND', u'SHORTY', u'SHOW', u'SHP', u'SIB', u'SIC', u'SIGMA', u'SIGT', u'SISA', u'SJCX', u'SJW', u'SKC', u'SKIN', u'SKR', u'SKULL', u'SKY', u'SLEVIN', u'SLFI', u'SLG', u'SLOTH', u'SLR', u'SLS', u'SLT', u'SMART', u'SMC', u'SMLY', u'SMOKE', u'SMS', u'SMT', u'SNAKE', u'SNC', u'SND', u'SNGLS', u'SNM', u'SNOV', u'SNRG', u'SNT', u'SOAR', u'SOC', u'SOCC', u'SOIL', u'SOJ', u'SONG', u'SOON', u'SPACE', u'SPANK', u'SPC', u'SPEX', u'SPF', u'SPHR', u'SPHTX', u'SPK', u'SPORT', u'SPR', u'SPRTS', u'SPT', u'SRC', u'SRN', u'SSC', u'SSS', u'STA', u'STAC', u'STAK', u'STAR', u'STARS', u'START', u'STC', u'STEEM', u'STEPS', u'STEX', u'STK', u'STN', u'STORJ', u'STORM', u'STQ', u'STRAT', u'STRC', u'STU', u'STV', u'STX', u'SUB', u'SUMO', u'SUP', u'SUPER', u'SUR', u'SWFTC', u'SWIFT', u'SWING', u'SWM', u'SWT', u'SWTC', u'SXC', u'SXDT', u'SXUT', u'SYNX', u'SYS', u'TAAS', u'TAG', u'TAGR', u'TAJ', u'TALK', u'TAU', u'TBX', u'TCC', u'TCOIN', u'TCR', u'TCT', u'TDX', u'TEAM', u'TEK', u'TEL', u'TELL', u'TEN', u'TER', u'TES', u'TESLA', u'TFD', u'TFL', u'TGC', u'TGT', u'THC', u'THETA', u'THS', u'TIE', u'TIG', u'TIME', u'TIO', u'TIPS', u'TIT', u'TIX', u'TKN', u'TKR', u'TKS', u'TKY', u'TLE', u'TMC', u'TNB', u'TNC', u'TNT', u'TOA', u'TODAY', u'TOK', u'TOKC', u'TOKEN', u'TOMO', u'TOP', u'TOPAZ', u'TOPC', u'TOR', u'TRAC', u'TRC', u'TRCT', u'TRDT', u'TRF', u'TRI', u'TRIA', u'TRICK', u'TRIG', u'TRK', u'TROLL', u'TRST', u'TRUE', u'TRUMP', u'TRUST', u'TRX', u'TSE', u'TSL', u'TSTR', u'TTC', u'TURBO', u'TUSD', u'TX', u'TYCHO', u'TZC', u'UBQ', u'UBTC', u'UCASH', u'UET', u'UFO', u'UFR', u'UGC', u'UGT', u'UIP', u'UIS', u'UKG', u'ULA', u'UNB', u'UNC', u'UNI', u'UNIC', u'UNIFY', u'UNIT', u'UNITS', u'UNITY', u'UNO', u'UNRC', u'UNY', u'UQC', u'UR', u'URC', u'URO', u'USC', u'USDT', u'USNBT', u'UTC', u'UTK', u'UTNP', u'UTT', u'V', u'VAL', u'VASH', u'VC', u'VEC2', u'VEE', u'VEN', u'VERI', u'VIA', u'VIB', u'VIBE', u'VIDZ', u'VIP', u'VISIO', u'VIU', u'VIVO', u'VLC', u'VLT', u'VLTC', u'VOISE', u'VOLT', u'VOT', u'VOYA', u'VPRC', u'VRC', u'VRM', u'VRS', u'VSL', u'VSX', u'VTA', u'VTC', u'VTR', u'VUC', u'VULC', u'VZT', u'W3C', u'WA', u'WABI', u'WAND', u'WARP', u'WAVES', u'WAX', u'WAY', u'WBB', u'WC', u'WCT', u'WDC', u'WETH', u'WGO', u'WGR', u'WHL', u'WIC', u'WILD', u'WINGS', u'WINK', u'WISH', u'WOMEN', u'WORM', u'WOW', u'WPR', u'WRC', u'WSX', u'WTC', u'WTT', u'X2', u'XAS', u'XAU', u'XAUR', u'XBC', u'XBL', u'XBTC21', u'XBTS', u'XBY', u'XCN', u'XCO', u'XCP', u'XCPO', u'XCRE', u'XCT', u'XCXT', u'XDN', u'XEL', u'XEM', u'XFT', u'XGOX', u'XGR', u'XHI', u'XID', u'XIN', u'XIOS', u'XJO', u'XLC', u'XLM', u'XLR', u'XMCC', u'XMG', u'XMR', u'XMRG', u'XMY', u'XNG', u'XNK', u'XNN', u'XOC', u'XOT', u'XP', u'XPA', u'XPD', u'XPM', u'XPTX', u'XPY', u'XQN', u'XRA', u'XRC', u'XRE', u'XRL', u'XRP', u'XRY', u'XSH', u'XSPEC', u'XST', u'XSTC', u'XTD', u'XTO', u'XTZ', u'XUC', u'XVC', u'XVE', u'XVG', u'XVP', u'XWC', u'XZC', u'YAC', u'YASH', u'YEE', u'YES', u'YOC', u'YOYOW', u'YTN', u'ZAP', u'ZBC', u'ZCG', u'ZCL', u'ZEC', u'ZEIT', u'ZEN', u'ZENGOLD', u'ZENI', u'ZEPH', u'ZER', u'ZET', u'ZIL', u'ZLA', u'ZMC', u'ZNE', u'ZNY', u'ZOI', u'ZPT', u'ZRC', u'ZRX', u'ZSC', u'ZSE', u'ZUR', u'ZYD', u'ZZC'), value=()), Text(value=u'Type Asset Tickers Here OR multi select above')))"
      ]
     },
     "metadata": {},
     "output_type": "display_data"
    },
    {
     "data": {
      "application/vnd.jupyter.widget-view+json": {
       "model_id": "efe9f64552914532b3cf8c08b0c6e333",
       "version_major": 2,
       "version_minor": 0
      },
      "text/html": [
       "<p>Failed to display Jupyter Widget of type <code>DatePicker</code>.</p>\n",
       "<p>\n",
       "  If you're reading this message in Jupyter Notebook or JupyterLab, it may mean\n",
       "  that the widgets JavaScript is still loading. If this message persists, it\n",
       "  likely means that the widgets JavaScript library is either not installed or\n",
       "  not enabled. See the <a href=\"https://ipywidgets.readthedocs.io/en/stable/user_install.html\">Jupyter\n",
       "  Widgets Documentation</a> for setup instructions.\n",
       "</p>\n",
       "<p>\n",
       "  If you're reading this message in another notebook frontend (for example, a static\n",
       "  rendering on GitHub or <a href=\"https://nbviewer.jupyter.org/\">NBViewer</a>),\n",
       "  it may mean that your frontend doesn't currently support widgets.\n",
       "</p>\n"
      ],
      "text/plain": [
       "DatePicker(value=None, description=u'From')"
      ]
     },
     "metadata": {},
     "output_type": "display_data"
    },
    {
     "data": {
      "application/vnd.jupyter.widget-view+json": {
       "model_id": "5fbbf5f60ee04f329800760f247afb77",
       "version_major": 2,
       "version_minor": 0
      },
      "text/html": [
       "<p>Failed to display Jupyter Widget of type <code>DatePicker</code>.</p>\n",
       "<p>\n",
       "  If you're reading this message in Jupyter Notebook or JupyterLab, it may mean\n",
       "  that the widgets JavaScript is still loading. If this message persists, it\n",
       "  likely means that the widgets JavaScript library is either not installed or\n",
       "  not enabled. See the <a href=\"https://ipywidgets.readthedocs.io/en/stable/user_install.html\">Jupyter\n",
       "  Widgets Documentation</a> for setup instructions.\n",
       "</p>\n",
       "<p>\n",
       "  If you're reading this message in another notebook frontend (for example, a static\n",
       "  rendering on GitHub or <a href=\"https://nbviewer.jupyter.org/\">NBViewer</a>),\n",
       "  it may mean that your frontend doesn't currently support widgets.\n",
       "</p>\n"
      ],
      "text/plain": [
       "DatePicker(value=None, description=u'To')"
      ]
     },
     "metadata": {},
     "output_type": "display_data"
    },
    {
     "data": {
      "application/vnd.jupyter.widget-view+json": {
       "model_id": "74b53bbb81f8473cbbf5c3f1f136aa20",
       "version_major": 2,
       "version_minor": 0
      },
      "text/html": [
       "<p>Failed to display Jupyter Widget of type <code>Button</code>.</p>\n",
       "<p>\n",
       "  If you're reading this message in Jupyter Notebook or JupyterLab, it may mean\n",
       "  that the widgets JavaScript is still loading. If this message persists, it\n",
       "  likely means that the widgets JavaScript library is either not installed or\n",
       "  not enabled. See the <a href=\"https://ipywidgets.readthedocs.io/en/stable/user_install.html\">Jupyter\n",
       "  Widgets Documentation</a> for setup instructions.\n",
       "</p>\n",
       "<p>\n",
       "  If you're reading this message in another notebook frontend (for example, a static\n",
       "  rendering on GitHub or <a href=\"https://nbviewer.jupyter.org/\">NBViewer</a>),\n",
       "  it may mean that your frontend doesn't currently support widgets.\n",
       "</p>\n"
      ],
      "text/plain": [
       "Button(description=u'Refresh Data', style=ButtonStyle())"
      ]
     },
     "metadata": {},
     "output_type": "display_data"
    }
   ],
   "source": [
    "# TODO HAVE A MASTER TRACKER LIST\n",
    "# TODO EACH TRACKER SPAWNS A CONTROL WIDGET TO SPAWN WIZARDS (FROM AVAILABLE UI MODULES)\n",
    "# TODO UI Modules should be instantiated under a parent\n",
    "\n",
    "# TODO print returns and histogram of returns\n",
    "\n",
    "''' \n",
    "xxxxxxxxxxxxxx\n",
    "xxxxxxxxxxxxxx\n",
    "MASTER WIDGET \n",
    "xxxxxxxxxxxxxx\n",
    "xxxxxxxxxxxxxx\n",
    "'''\n",
    "from ipywidgets import IntSlider, Text, VBox\n",
    "import time\n",
    "\n",
    "assets = widgets.SelectMultiple(\n",
    "    options=all_products,\n",
    "    description='Assets',\n",
    "    disabled=False\n",
    ")\n",
    "\n",
    "asset_text = Text(\"Type Asset Tickers Here OR multi select above\")\n",
    "\n",
    "def update_text(change=None):\n",
    "    asset_string = \"\"\n",
    "    for asset in assets.value:\n",
    "        asset_string = asset_string + asset+ ','\n",
    "    asset_text.value = asset_string\n",
    "\n",
    "assets.observe(update_text, names='value')\n",
    "vbox = VBox([assets, asset_text])\n",
    "\n",
    "selected_start = widgets.DatePicker(\n",
    "    description='From',\n",
    "    disabled=False\n",
    ")\n",
    "\n",
    "selected_end = widgets.DatePicker(\n",
    "    description='To',\n",
    "    disabled=False\n",
    ")\n",
    "\n",
    "\n",
    "def get_selected():\n",
    "    assets = asset_text.value.split(',')\n",
    "    products = []\n",
    "    for ass in assets:\n",
    "        ass.replace(\" \", \"\")\n",
    "        if ass in all_products:\n",
    "            products.append(ass)\n",
    "    if len(products) > 0:\n",
    "        return products\n",
    "    else:\n",
    "        return ['None']\n",
    "\n",
    "def refresh(b):\n",
    "    start_time = datetime.fromordinal(selected_start.value.toordinal())\n",
    "    products = get_selected()\n",
    "    \n",
    "    # INIT TRACKERS    \n",
    "    mt.initalize(products, start = start_time)    \n",
    "    print \"Refreshed \", products\n",
    "    \n",
    "    \n",
    "refresh_button = widgets.Button(description=\"Refresh Data\")\n",
    "\n",
    "print \"Tracker Control Panel\"\n",
    "\n",
    "display(vbox)\n",
    "display(selected_start)\n",
    "display(selected_end)\n",
    "\n",
    "display(refresh_button)\n",
    "refresh_button.on_click(refresh)"
   ]
  },
  {
   "cell_type": "code",
   "execution_count": 3,
   "metadata": {
    "extensions": {
     "jupyter_dashboards": {
      "version": 1,
      "views": {
       "grid_default": {
        "hidden": true
       },
       "report_default": {
        "hidden": true
       }
      }
     }
    }
   },
   "outputs": [],
   "source": [
    "''' \n",
    "xxxxxxxxxxxxxx\n",
    "xxxxxxxxxxxxxx\n",
    "TABLE WIDGET \n",
    "xxxxxxxxxxxxxx\n",
    "xxxxxxxxxxxxxx\n",
    "'''\n",
    "\n",
    "import qgrid\n",
    "\n",
    "def display_table_wizard():\n",
    "    \n",
    "    # Define control panel\n",
    "    sheet_asset = widgets.Dropdown(options = get_selected())\n",
    "    def sheet_change_event(x):\n",
    "        global asset_text\n",
    "        sheet_asset\n",
    "        sheet_asset.index = None #This line is very important for setting the values for widgets other than widget with observe method\n",
    "        sheet_asset.index = 0\n",
    "        sheet_asset.options = get_selected()\n",
    "    \n",
    "    sheet_button = widgets.Button(description=\"Get Table\")\n",
    "    \n",
    "    vbox = VBox([sheet_asset, sheet_button])\n",
    "    menu = widgets.Accordion(children=[vbox])\n",
    "    menu.set_title(0, 'Table Selector')\n",
    "    \n",
    "    \n",
    "    def get_sheet(b):\n",
    "        # reset view\n",
    "        clear_output()\n",
    "        display(menu)\n",
    "        \n",
    "        df = mt.get_sticks(sheet_asset.value)\n",
    "\n",
    "        qgrid.show_grid(df, show_toolbar=False)\n",
    "    \n",
    "    # Wire up controls\n",
    "    asset_text.observe(sheet_change_event)\n",
    "    sheet_button.on_click(get_sheet)\n",
    "    \n",
    "    # reset view\n",
    "    display(menu)\n"
   ]
  },
  {
   "cell_type": "code",
   "execution_count": 4,
   "metadata": {
    "extensions": {
     "jupyter_dashboards": {
      "version": 1,
      "views": {
       "grid_default": {
        "hidden": true
       },
       "report_default": {
        "hidden": true
       }
      }
     }
    }
   },
   "outputs": [],
   "source": [
    "''' \n",
    "xxxxxxxxxxxxxx\n",
    "xxxxxxxxxxxxxx\n",
    "RETURNS WIDGET \n",
    "xxxxxxxxxxxxxx\n",
    "xxxxxxxxxxxxxx\n",
    "'''\n",
    "\n",
    "from ui_modules.finance_timeseries_module import Finance_Timeseries_Module\n",
    "\n",
    "def display_returns_wizard():\n",
    "    \n",
    "    # Define control panel\n",
    "    returnz_assets = widgets.SelectMultiple(\n",
    "        options= get_selected(),\n",
    "        description='Assets',\n",
    "        disabled=False\n",
    "    )\n",
    "    \n",
    "    \n",
    "    def change_event(x):\n",
    "        global asset_text\n",
    "        returnz_assets.options = get_selected()\n",
    "\n",
    "    returns_button = widgets.Button(description=\"Get Returns\")\n",
    "    \n",
    "    vbox = VBox([returnz_assets, returns_button])\n",
    "    menu = widgets.Accordion(children=[vbox])\n",
    "    menu.set_title(0, 'Chart Selector')\n",
    "\n",
    "    def get_returns(b):\n",
    "\n",
    "        # reset view\n",
    "        clear_output()\n",
    "        display(menu)\n",
    "\n",
    "        tsm = Finance_Timeseries_Module(mt)\n",
    "        series = []\n",
    "        labels = []\n",
    "\n",
    "        for s in list(returnz_assets.value):\n",
    "            series.append((s, 'close'))\n",
    "            labels.append(s+'-returns')\n",
    "        display(tsm.get_pct_change_chart(series, labels, 'Cumulative Returns'))\n",
    "\n",
    "    \n",
    "    # Wire up controls\n",
    "    asset_text.observe(change_event)\n",
    "    returns_button.on_click(get_returns)\n",
    "    \n",
    "    # reset view\n",
    "    display(menu)\n"
   ]
  },
  {
   "cell_type": "code",
   "execution_count": 5,
   "metadata": {
    "extensions": {
     "jupyter_dashboards": {
      "version": 1,
      "views": {
       "grid_default": {
        "col": 0,
        "height": 23,
        "hidden": true,
        "row": 0,
        "width": 5
       },
       "report_default": {
        "hidden": true
       }
      }
     }
    }
   },
   "outputs": [],
   "source": [
    "''' \n",
    "xxxxxxxxxxxxxx\n",
    "xxxxxxxxxxxxxx\n",
    "CANDLE WIDGET \n",
    "xxxxxxxxxxxxxx\n",
    "xxxxxxxxxxxxxx\n",
    "'''\n",
    "\n",
    "from ui_modules.candlestick_module import Candlestick_Module\n",
    "\n",
    "indicator_mapping = {\n",
    "    'EMA': mt.get_exponential_moving_average,\n",
    "    'SMA': mt.get_simple_moving_average,\n",
    "    'TMA': mt.get_triangular_moving_average,\n",
    "    'WMA': mt.get_weighted_moving_average,\n",
    "    'LWMA': mt.get_linear_weighted_moving_average,\n",
    "    'DEMA': mt.get_double_exponential_moving_average,\n",
    "    'TEMA': mt.get_triple_exponential_moving_average\n",
    "}\n",
    "\n",
    "def add_indicator(chart, indicator, ticker, period):\n",
    "    series = indicator_mapping[indicator]((ticker, 'close'), period)\n",
    "    \n",
    "    d = series.as_matrix()\n",
    "    idx =  series.index.tolist()\n",
    "\n",
    "    hc_series = []\n",
    "    for j in range(len(idx)):\n",
    "        hc_series.append([\n",
    "            idx[j],\n",
    "            d[j][0]\n",
    "        ])\n",
    "    \n",
    "    chart.add_data_set(hc_series[period-1:], 'line', indicator+' '+str(period))\n",
    "    return chart\n",
    "\n",
    "def display_chart_wizard():\n",
    "    \n",
    "    # Define control panel\n",
    "    price_asset = widgets.Dropdown(options = get_selected())\n",
    "    candle_button = widgets.Button(description=\"Get Chart\")\n",
    "\n",
    "    def asset_change_event(x):\n",
    "        global asset_text\n",
    "        price_asset.index = None #This line is very important for setting the values for widgets other than widget with observe method\n",
    "        price_asset.index = 0\n",
    "        price_asset.options = get_selected()\n",
    "\n",
    "    mbox = VBox([price_asset, candle_button])\n",
    "        \n",
    "    inline_indicators = widgets.Select(\n",
    "        options=indicator_mapping.keys(),\n",
    "        description='Indicators',\n",
    "        disabled=False\n",
    "    )\n",
    "\n",
    "    period = widgets.BoundedIntText(\n",
    "        value=7,\n",
    "        min=0,\n",
    "        max=10,\n",
    "        step=1,\n",
    "        description='Period:',\n",
    "        disabled=False\n",
    "    )\n",
    "    \n",
    "    add_button = widgets.Button(description=\"Add\")\n",
    "    \n",
    "    vbox = VBox([inline_indicators, period, add_button])\n",
    "    \n",
    "    menu = widgets.Accordion(children=[mbox, vbox])\n",
    "    menu.set_title(0, 'Chart Selector')\n",
    "    menu.set_title(1, 'Chart Options')\n",
    "    \n",
    "        \n",
    "    def get_candle(b):\n",
    "        csm = Candlestick_Module(mt)\n",
    "        chart = csm.get_candlestick_chart(price_asset.value, price_asset.value+'(USD)', price_asset.value+' Price', True)\n",
    "   \n",
    "        def add(but):\n",
    "            add_indicator(chart, inline_indicators.value, price_asset.value, period.value)\n",
    "\n",
    "            # reset view\n",
    "            clear_output()\n",
    "            display(menu)\n",
    "            display(chart)\n",
    "    \n",
    "        # Wire up secondary controls\n",
    "        add_button.on_click(add)\n",
    "        \n",
    "        # reset view\n",
    "        clear_output()\n",
    "        display(menu)\n",
    "        display(chart)\n",
    "        \n",
    "    \n",
    "    # Wire up controls\n",
    "    asset_text.observe(asset_change_event)\n",
    "    candle_button.on_click(get_candle)\n",
    "    display(menu)\n",
    "    "
   ]
  },
  {
   "cell_type": "code",
   "execution_count": 6,
   "metadata": {
    "extensions": {
     "jupyter_dashboards": {
      "version": 1,
      "views": {
       "grid_default": {
        "hidden": true
       },
       "report_default": {}
      }
     }
    }
   },
   "outputs": [],
   "source": [
    "''' \n",
    "xxxxxxxxxxxxxx\n",
    "xxxxxxxxxxxxxx\n",
    "COV WIDGET \n",
    "xxxxxxxxxxxxxx\n",
    "xxxxxxxxxxxxxx\n",
    "'''\n",
    "\n",
    "from sklearn import covariance\n",
    "import seaborn as sns\n",
    "import matplotlib.pyplot as plt\n",
    "\n",
    "cov_types = ['Pearson', 'Spearman', 'Kendall', 'Covariance']#, 'Ledoit-Wolf']\n",
    "\n",
    "def display_cov_wizard():\n",
    "    \n",
    "    # Define control panel\n",
    "    cov_assets = widgets.SelectMultiple(\n",
    "        options=get_selected(),\n",
    "        description='Assets',\n",
    "        disabled=False\n",
    "    )\n",
    "    \n",
    "    def change_event(x):\n",
    "        global asset_text\n",
    "        cov_assets.options = get_selected()\n",
    "\n",
    "    cov_button = widgets.Button(description=\"Get Return Corr\")\n",
    "        \n",
    "    cov_start = widgets.DatePicker(\n",
    "        description='Start Date',\n",
    "        disabled=False\n",
    "    )\n",
    "\n",
    "    cov_end = widgets.DatePicker(\n",
    "        description='End Date',\n",
    "        disabled=False\n",
    "    )\n",
    "\n",
    "    cov_selector = widgets.Select(\n",
    "        options=cov_types,\n",
    "        description='Function',\n",
    "        disabled=False\n",
    "    )\n",
    "    \n",
    "    vbox = VBox([cov_assets, cov_start, cov_end, cov_selector, cov_button])\n",
    "    menu = widgets.Accordion(children=[vbox])\n",
    "    menu.set_title(0, 'Argument Selector')\n",
    "\n",
    "    def get_cov(b):\n",
    "        # reset view\n",
    "        clear_output()\n",
    "        display(menu) \n",
    "        \n",
    "        products = list(cov_assets.value)    \n",
    "        start_time = datetime.fromordinal(cov_start.value.toordinal())\n",
    "        end_time= datetime.fromordinal(cov_end.value.toordinal())\n",
    "        cov_type = cov_selector.value\n",
    "        \n",
    "        product_returns = []\n",
    "        for product in products:\n",
    "            product_returns.append(mt.get_pct_return((product, 'close')).rename(product))\n",
    "        returns_df = pd.concat(product_returns, axis=1).iloc[1:] # remove first NAN row\n",
    "        \n",
    "        \n",
    "        if cov_type == 'Pearson':\n",
    "            print 'Pearson correlation matrix:'\n",
    "            df_corr= returns_df[start_time:end_time].corr(method='pearson')\n",
    "            Fig, ax = plt.subplots(figsize=(14,10))\n",
    "            hm = sns.heatmap(df_corr, yticklabels=df_corr.columns.values, xticklabels=df_corr.columns.values, annot=True, linewidths=.5)\n",
    "            plt.show()\n",
    "\n",
    "        elif cov_type == 'Spearman':\n",
    "            print 'Spearman correlation matrix:'\n",
    "            df_corr= returns_df[start_time:end_time].corr(method='spearman')\n",
    "            Fig, ax = plt.subplots(figsize=(14,10))\n",
    "            hm = sns.heatmap(df_corr, yticklabels=df_corr.columns.values, xticklabels=df_corr.columns.values, annot=True, linewidths=.5)\n",
    "            plt.show()\n",
    "\n",
    "        elif cov_type == 'Kendall':\n",
    "            print 'Kendall correlation matrix:'\n",
    "            df_corr= returns_df[start_time:end_time].corr(method='kendall')\n",
    "            Fig, ax = plt.subplots(figsize=(14,10))\n",
    "            hm = sns.heatmap(df_corr, yticklabels=df_corr.columns.values, xticklabels=df_corr.columns.values, annot=True, linewidths=.5)\n",
    "            plt.show()\n",
    "\n",
    "        # TODO For Cov and LW show the stability over a time range?\n",
    "        elif cov_type == 'Covariance': \n",
    "            print 'Covariance matrix:'\n",
    "            df_corr = returns_df[start_time:end_time].cov()\n",
    "            Fig, ax = plt.subplots(figsize=(14,10))\n",
    "            hm = sns.heatmap(df_corr, yticklabels=df_corr.columns.values, xticklabels=df_corr.columns.values, annot=True, linewidths=.5)\n",
    "            plt.show()\n",
    "\n",
    "            \n",
    "#         elif cov_type == 'Ledoit-Wolf':\n",
    "#             print 'Ledoit-Wolf Estimator matrix:'\n",
    "#             lw_cov = covariance.ledoit_wolf(returns_df[start_time:end_time])[0]\n",
    "#             Fig, ax = plt.subplots(figsize=(14,10))\n",
    "#             hm = sns.heatmap(lw_cov, yticklabels=df_corr.columns.values, xticklabels=df_corr.columns.values, annot=True, linewidths=.5)\n",
    "#             plt.show()\n",
    "    \n",
    "\n",
    "    \n",
    "    # Wire up controls\n",
    "    asset_text.observe(change_event)\n",
    "    cov_button.on_click(get_cov)\n",
    "    \n",
    "    # reset view\n",
    "    display(menu)\n"
   ]
  },
  {
   "cell_type": "code",
   "execution_count": 7,
   "metadata": {
    "extensions": {
     "jupyter_dashboards": {
      "version": 1,
      "views": {
       "grid_default": {
        "hidden": true
       },
       "report_default": {}
      }
     }
    }
   },
   "outputs": [],
   "source": [
    "''' \n",
    "xxxxxxxxxxxxxx\n",
    "xxxxxxxxxxxxxx\n",
    "PCA WIDGET \n",
    "xxxxxxxxxxxxxx\n",
    "xxxxxxxxxxxxxx\n",
    "'''\n",
    "\n",
    "from sklearn.decomposition import PCA\n",
    "#import matplotlib.pyplot as plt, mpld3\n",
    "\n",
    "def display_pca_wizard():\n",
    "\n",
    "    pca_start = widgets.DatePicker(\n",
    "        description='Start Date',\n",
    "        disabled=False\n",
    "    )\n",
    "\n",
    "    pca_end = widgets.DatePicker(\n",
    "        description='End Date',\n",
    "        disabled=False\n",
    "    )\n",
    "    \n",
    "    num_components = widgets.BoundedIntText(\n",
    "        value=2,\n",
    "        min=0,\n",
    "        max=10,\n",
    "        step=1,\n",
    "        description='Components:',\n",
    "        disabled=False\n",
    "    )\n",
    "    \n",
    "    pca_assets = widgets.SelectMultiple(\n",
    "        options=get_selected(),\n",
    "        description='Assets',\n",
    "        disabled=False\n",
    "    )\n",
    "    \n",
    "    def pca_change_event(x):\n",
    "        global asset_text\n",
    "        pca_assets.options = get_selected()\n",
    "    \n",
    "\n",
    "    pca_button = widgets.Button(description=\"Get Returns PCA\")\n",
    "    \n",
    "    vbox = VBox([pca_start, pca_end, num_components, pca_assets, pca_button])\n",
    "    menu = widgets.Accordion(children=[vbox])\n",
    "    menu.set_title(0, 'Argument Selector')\n",
    "\n",
    "    \n",
    "    def get_pca(b):\n",
    "        # Reset View\n",
    "        products = list(pca_assets.value)\n",
    "        clear_output()\n",
    "        display(menu)\n",
    "        \n",
    "        \n",
    "        start_time = datetime.fromordinal(pca_start.value.toordinal())\n",
    "        end_time= datetime.fromordinal(pca_end.value.toordinal())\n",
    "        num_pc = num_components.value\n",
    "\n",
    "\n",
    "        product_returns = []\n",
    "        for product in list(pca_assets.value):\n",
    "            product_returns.append(mt.get_pct_return((product, 'close')).rename(product))\n",
    "        returns_df = pd.concat(product_returns, axis=1).iloc[1:] # remove first NAN row\n",
    "\n",
    "        # Let's look at the returns between any portfolio with these assets generating returns using PCA\n",
    "\n",
    "        X = np.asarray(returns_df[start_time:end_time])#returns\n",
    "        [n,m] = X.shape\n",
    "        print 'The number of timestamps is {}.'.format(n)\n",
    "        print 'The number of assets is {}.'.format(m)\n",
    "\n",
    "        pca = PCA(n_components=num_pc) # number of principal components\n",
    "        pca.fit(X)\n",
    "\n",
    "        percentage =  pca.explained_variance_ratio_\n",
    "        percentage_cum = np.cumsum(percentage)\n",
    "        print '{0:.2f}% of the variance is explained by {1} PCs'.format(percentage_cum[-1]*100, num_pc)\n",
    "\n",
    "        pca_components = pca.components_\n",
    "\n",
    "        x = np.arange(1,len(percentage)+1,1)\n",
    "\n",
    "        plt.subplot(1, 2, 1)\n",
    "        plt.bar(x, percentage*100, align = \"center\")\n",
    "        plt.title('Contribution of principal components',fontsize = 16)\n",
    "        plt.xlabel('principal components',fontsize = 16)\n",
    "        plt.ylabel('percentage',fontsize = 16)\n",
    "        plt.xticks(x,fontsize = 16) \n",
    "        plt.yticks(fontsize = 16)\n",
    "        plt.xlim([0, num_pc+1])\n",
    "\n",
    "        plt.subplot(1, 2, 2)\n",
    "        plt.plot(x, percentage_cum*100,'ro-')\n",
    "        plt.xlabel('principal components',fontsize = 16)\n",
    "        plt.ylabel('percentage',fontsize = 16)\n",
    "        plt.title('Cumulative contribution of principal components',fontsize = 16)\n",
    "        plt.xticks(x,fontsize = 16) \n",
    "        plt.yticks(fontsize = 16)\n",
    "        plt.xlim([1, num_pc])\n",
    "        plt.ylim([50,100]);\n",
    "\n",
    "        plt.show()\n",
    "        #base_pca = mpld3.fig_to_html(plt)\n",
    "        \n",
    "        # set view for secondary control\n",
    "        factorA_id = widgets.BoundedIntText(\n",
    "            value=0,\n",
    "            min=0,\n",
    "            max=num_pc-1,\n",
    "            step=1,\n",
    "            description='1st Component:',\n",
    "            disabled=False\n",
    "        )\n",
    "        \n",
    "        factorB_id = widgets.BoundedIntText(\n",
    "            value=0,\n",
    "            min=0,\n",
    "            max=num_pc-1,\n",
    "            step=1,\n",
    "            description='2nd Component:',\n",
    "            disabled=False\n",
    "        )\n",
    "        \n",
    "        factors_button = widgets.Button(description=\"Get Factors\")\n",
    "        \n",
    "        bbox = VBox([factorA_id, factorB_id, factors_button])\n",
    "        benu = widgets.Accordion(children=[bbox])\n",
    "        benu.set_title(0, 'Factor Inspector')\n",
    "\n",
    "\n",
    "        def get_factor_returns(but):\n",
    "            # Re-render primary and secondary controls\n",
    "            clear_output()\n",
    "            display(menu)\n",
    "            #display(base_pca)\n",
    "            display(benu)\n",
    "            \n",
    "            \n",
    "            # Find how much each factor contributed each day (principal component matrix)\n",
    "            factor_returns = X.dot(pca_components.T)\n",
    "            col_names = [\"factor \"+str(x) for x in range(factor_returns.shape[1])]\n",
    "            factor_returns = pd.DataFrame(columns=col_names, \n",
    "                                          index=returns_df[start_time:end_time].index,\n",
    "                                          data=factor_returns)\n",
    "            #  TODO visualize factor_returns\n",
    "            #     factor_returns.plot()\n",
    "\n",
    "            #  Find how much each factor was driven by underlying assets (eigenvector matrix)\n",
    "            col_names = [\"Component \"+str(x) for x in range(factor_returns.shape[1])]\n",
    "            factor_exposures = pd.DataFrame(index=col_names, \n",
    "                                            columns=returns_df.columns,\n",
    "                                            data = pca.components_).T\n",
    "\n",
    "            # We can now vizualize this\n",
    "            c0 = factorA_id.value\n",
    "            c1 = factorB_id.value\n",
    "            factorA = 'Component '+str(c0)\n",
    "            factorB = 'Component '+str(c1)\n",
    "            selected_exposures = factor_exposures[[factorA, factorB]]\n",
    "\n",
    "            labels = selected_exposures.index\n",
    "            data = selected_exposures.values\n",
    "\n",
    "            plt.subplots_adjust(bottom = 0.1)\n",
    "            plt.scatter(\n",
    "                data[:, 0], data[:, 1], marker='o', s=300, c='m',\n",
    "                cmap=plt.get_cmap('Spectral'))\n",
    "            plt.title('Scatter Plot of Coefficients of '+factorA+' and '+factorB)\n",
    "            plt.xlabel('factor exposure of '+factorA)\n",
    "            plt.ylabel('factor exposure of '+factorB)\n",
    "\n",
    "            for label, x, y in zip(labels, data[:, 0], data[:, 1]):\n",
    "                plt.annotate(\n",
    "                    label,\n",
    "                    xy=(x, y), xytext=(-20, 20),\n",
    "                    textcoords='offset points', ha='right', va='bottom',\n",
    "                    bbox=dict(boxstyle='round,pad=0.5', fc='yellow', alpha=0.5),\n",
    "                    arrowprops=dict(arrowstyle = '->', connectionstyle='arc3,rad=0')\n",
    "                );\n",
    "\n",
    "            plt.show()\n",
    "\n",
    "        # Wire buttons\n",
    "        factors_button.on_click(get_factor_returns)\n",
    "\n",
    "        # set secondary view\n",
    "        #display(base_pca)\n",
    "        display(benu)\n",
    "        \n",
    "\n",
    "    # Wire buttons\n",
    "    asset_text.observe(pca_change_event)\n",
    "    pca_button.on_click(get_pca)\n",
    "\n",
    "    # reset view\n",
    "    display(menu)"
   ]
  },
  {
   "cell_type": "code",
   "execution_count": 8,
   "metadata": {
    "extensions": {
     "jupyter_dashboards": {
      "version": 1,
      "views": {
       "grid_default": {
        "hidden": true
       },
       "report_default": {}
      }
     }
    }
   },
   "outputs": [],
   "source": [
    "\n",
    "''' \n",
    "xxxxxxxxxxxxxx\n",
    "xxxxxxxxxxxxxx\n",
    "MARKETCAP WIDGET \n",
    "xxxxxxxxxxxxxx\n",
    "xxxxxxxxxxxxxx\n",
    "'''\n",
    "\n",
    "import matplotlib.pyplot as plt\n",
    "import seaborn as sns\n",
    "\n",
    "def display_mktcap_wizard():\n",
    "    \n",
    "    # Define control panel\n",
    "    mktcap_assets = widgets.SelectMultiple(\n",
    "        options= get_selected(),\n",
    "        description='Assets',\n",
    "        disabled=False\n",
    "    )\n",
    "    \n",
    "    \n",
    "    \n",
    "    def mktcap_change_event(x):\n",
    "        global asset_text\n",
    "        mktcap_assets.options = get_selected()\n",
    "        \n",
    "        \n",
    "    mktcap_button = widgets.Button(description=\"Get Marketcap\")\n",
    "\n",
    "    vbox = VBox([mktcap_assets, mktcap_button])\n",
    "    menu = widgets.Accordion(children=[vbox])\n",
    "    menu.set_title(0, 'Marketcap Selector')\n",
    "\n",
    "    def get_mktcap(b):\n",
    "\n",
    "        # reset view\n",
    "        clear_output()\n",
    "        display(menu)\n",
    "\n",
    "        series = []\n",
    "        labels = []\n",
    "        for s in list(mktcap_assets.value):\n",
    "            labels.append(s)\n",
    "            stick_frame = mt.get_sticks(s)\n",
    "            series.append(stick_frame['marketcap'].as_matrix())\n",
    "            x = stick_frame.index\n",
    "\n",
    "        # Plot\n",
    "        plt.stackplot(x,series, labels=labels)\n",
    "        plt.legend(loc='upper left')\n",
    "        plt.title('Aggregate Marketcap')\n",
    "        plt.xlabel('Time')\n",
    "        plt.ylabel('Marketcap ($)')\n",
    "        plt.show()\n",
    "    \n",
    "    # Wire up controls\n",
    "    asset_text.observe(mktcap_change_event)\n",
    "    mktcap_button.on_click(get_mktcap)\n",
    "    \n",
    "    # reset view\n",
    "    display(menu)\n",
    "    "
   ]
  },
  {
   "cell_type": "code",
   "execution_count": 9,
   "metadata": {
    "extensions": {
     "jupyter_dashboards": {
      "version": 1,
      "views": {
       "grid_default": {
        "hidden": true
       },
       "report_default": {}
      }
     }
    }
   },
   "outputs": [],
   "source": [
    "''' \n",
    "xxxxxxxxxxxxxx\n",
    "xxxxxxxxxxxxxx\n",
    "RETURN HIST WIDGET \n",
    "xxxxxxxxxxxxxx\n",
    "xxxxxxxxxxxxxx\n",
    "'''\n",
    "import matplotlib\n",
    "\n",
    "\n",
    "def display_return_hist_wizard():\n",
    "    \n",
    "    # Define control panel\n",
    "    hist_assets = widgets.SelectMultiple(\n",
    "        options= get_selected(),\n",
    "        description='Assets',\n",
    "        disabled=False\n",
    "    )\n",
    "    \n",
    "    def hist_change_event(x):\n",
    "        global asset_text\n",
    "        hist_assets.options = get_selected()\n",
    "    \n",
    "    hist_button = widgets.Button(description=\"Get Histogram\")\n",
    "        \n",
    "    vbox = VBox([hist_assets, hist_button])\n",
    "    menu = widgets.Accordion(children=[vbox])\n",
    "    menu.set_title(0, 'Histogram Selector')\n",
    "\n",
    "    def get_return_hist(b):\n",
    "\n",
    "        # reset view\n",
    "        clear_output()\n",
    "        display(menu)\n",
    "        \n",
    "        colors = [i[0] for i in matplotlib.colors.cnames.items()]\n",
    "        product_returns = []\n",
    "        for i, product in enumerate(list(hist_assets.value)):\n",
    "            pct_returns = mt.get_pct_return((product, 'close'))\n",
    "            sns.distplot(pct_returns[1:], color=colors[i], label=product)\n",
    "        \n",
    "        plt.legend(loc='upper left')\n",
    "        plt.title('Returns Histogram')\n",
    "        plt.xlabel('Daily % Return')\n",
    "        plt.ylabel('Bin Size')\n",
    "        plt.show()\n",
    " \n",
    "    # Wire up controls\n",
    "    asset_text.observe(hist_change_event)\n",
    "    hist_button.on_click(get_return_hist)\n",
    "    \n",
    "    # reset view\n",
    "    display(menu)\n"
   ]
  },
  {
   "cell_type": "code",
   "execution_count": 10,
   "metadata": {
    "extensions": {
     "jupyter_dashboards": {
      "version": 1,
      "views": {
       "grid_default": {
        "hidden": true
       },
       "report_default": {}
      }
     }
    }
   },
   "outputs": [],
   "source": [
    "''' \n",
    "xxxxxxxxxxxxxx\n",
    "xxxxxxxxxxxxxx\n",
    "TRADES WIDGET \n",
    "xxxxxxxxxxxxxx\n",
    "xxxxxxxxxxxxxx\n",
    "'''\n",
    "\n",
    "from features.historical_price_tracker import Crypto_Trade_Tracker\n",
    "from exchanges.binance.rest_api import get_products_to_currencies\n",
    "from ui_modules.trade_module import Crypto_Trade_Module\n",
    "\n",
    "\n",
    "def display_trade_wizard():\n",
    "    \n",
    "    # Define control panel\n",
    "    trade_exchange = widgets.Select(\n",
    "        options=['binance'],\n",
    "        description='Exchange',\n",
    "        disabled=False\n",
    "    )\n",
    "\n",
    "    day = widgets.DatePicker(\n",
    "        description='Day',\n",
    "        disabled=False\n",
    "    )\n",
    "\n",
    "    hour = widgets.BoundedIntText(\n",
    "        value=2,\n",
    "        min=0,\n",
    "        max=23,\n",
    "        step=1,\n",
    "        description='Hour',\n",
    "        disabled=False\n",
    "    )\n",
    "    \n",
    "    p2c = get_products_to_currencies()\n",
    "    def list_trade_pairs():\n",
    "        pairs = []\n",
    "        for pair in p2c.keys():\n",
    "            for selected in get_selected():\n",
    "                if selected == p2c[pair]['buy'] or selected == p2c[pair]['sell']:\n",
    "                    if pair not in pairs:\n",
    "                        pairs.append(pair)\n",
    "        if len(pairs) == 0:\n",
    "            return ['None']\n",
    "        return pairs\n",
    "    \n",
    "        \n",
    "    trade_pair = widgets.Select(\n",
    "        options=list_trade_pairs(),\n",
    "        description='Trade Pair',\n",
    "        disabled=False\n",
    "    )\n",
    "\n",
    "    \n",
    "    def trade_change_event(x):\n",
    "        global asset_text\n",
    "        trade_pair.options = list_trade_pairs()\n",
    "        \n",
    "    trades_button = widgets.Button(description=\"Get Trades\")\n",
    "\n",
    "    \n",
    "    vbox = VBox([trade_exchange, trade_pair, day, hour, trades_button])\n",
    "    menu = widgets.Accordion(children=[vbox])\n",
    "    menu.set_title(0, 'Orderbook Selector')\n",
    "    \n",
    "    def get_trades(b):\n",
    "        # reset view\n",
    "        clear_output()\n",
    "        display(menu)\n",
    "        \n",
    "        start_time = datetime.fromordinal(day.value.toordinal()) + timedelta(hours=hour.value)\n",
    "        end_time= start_time + timedelta(hours=1)\n",
    "        \n",
    "        try:\n",
    "            ctt = Crypto_Trade_Tracker(start_time, end_time, [('binance', trade_pair.value)], async=False)\n",
    "            mod = Crypto_Trade_Module(ctt)\n",
    "            display(mod.get_trades_bubble_chart([('binance', trade_pair.value)], ['binance-'+trade_pair.value], 'Binance Trades Bubble Plot'))\n",
    "        except:\n",
    "            print \"None\"\n",
    "        \n",
    "        plt.legend(loc='upper left')\n",
    "        plt.title('Returns Histogram')\n",
    "        plt.xlabel('Daily % Return')\n",
    "        plt.ylabel('Bin Size')\n",
    "        plt.show()\n",
    " \n",
    "    # Wire up controls\n",
    "    asset_text.observe(trade_change_event)\n",
    "    trades_button.on_click(get_trades)\n",
    "    \n",
    "    # reset view\n",
    "    display(menu)\n"
   ]
  },
  {
   "cell_type": "code",
   "execution_count": 11,
   "metadata": {
    "extensions": {
     "jupyter_dashboards": {
      "version": 1,
      "views": {
       "grid_default": {
        "col": 3,
        "height": 22,
        "hidden": true,
        "row": 30,
        "width": 7
       },
       "report_default": {
        "hidden": true
       }
      }
     }
    }
   },
   "outputs": [],
   "source": [
    "# Start registry here\n",
    "if done:\n",
    "    display_table_wizard()"
   ]
  },
  {
   "cell_type": "code",
   "execution_count": 12,
   "metadata": {
    "extensions": {
     "jupyter_dashboards": {
      "version": 1,
      "views": {
       "grid_default": {
        "col": 0,
        "height": 26,
        "hidden": true,
        "row": 10,
        "width": 5
       },
       "report_default": {
        "hidden": true
       }
      }
     }
    }
   },
   "outputs": [],
   "source": [
    "if done:\n",
    "    display_chart_wizard()"
   ]
  },
  {
   "cell_type": "code",
   "execution_count": 13,
   "metadata": {
    "extensions": {
     "jupyter_dashboards": {
      "version": 1,
      "views": {
       "grid_default": {
        "col": 6,
        "height": 18,
        "hidden": true,
        "row": 0,
        "width": 6
       },
       "report_default": {
        "hidden": true
       }
      }
     }
    },
    "scrolled": false
   },
   "outputs": [],
   "source": [
    "if done:\n",
    "    display_returns_wizard()"
   ]
  },
  {
   "cell_type": "code",
   "execution_count": 14,
   "metadata": {
    "extensions": {
     "jupyter_dashboards": {
      "version": 1,
      "views": {
       "grid_default": {
        "hidden": true
       },
       "report_default": {}
      }
     }
    }
   },
   "outputs": [],
   "source": [
    "if done:\n",
    "    display_cov_wizard()"
   ]
  },
  {
   "cell_type": "code",
   "execution_count": 15,
   "metadata": {
    "extensions": {
     "jupyter_dashboards": {
      "version": 1,
      "views": {
       "grid_default": {
        "col": 0,
        "height": 4,
        "hidden": true,
        "row": 4,
        "width": 12
       },
       "report_default": {}
      }
     }
    }
   },
   "outputs": [],
   "source": [
    "if done:\n",
    "    display_pca_wizard()"
   ]
  },
  {
   "cell_type": "code",
   "execution_count": 16,
   "metadata": {
    "extensions": {
     "jupyter_dashboards": {
      "version": 1,
      "views": {
       "grid_default": {
        "hidden": true
       },
       "report_default": {}
      }
     }
    }
   },
   "outputs": [],
   "source": [
    "if done:\n",
    "    display_mktcap_wizard()"
   ]
  },
  {
   "cell_type": "code",
   "execution_count": 17,
   "metadata": {
    "extensions": {
     "jupyter_dashboards": {
      "version": 1,
      "views": {
       "grid_default": {
        "hidden": true
       },
       "report_default": {}
      }
     }
    }
   },
   "outputs": [],
   "source": [
    "if done:\n",
    "    display_return_hist_wizard()"
   ]
  },
  {
   "cell_type": "code",
   "execution_count": 18,
   "metadata": {
    "extensions": {
     "jupyter_dashboards": {
      "version": 1,
      "views": {
       "grid_default": {
        "hidden": true
       },
       "report_default": {}
      }
     }
    }
   },
   "outputs": [],
   "source": [
    "if done:\n",
    "    display_trade_wizard()"
   ]
  },
  {
   "cell_type": "code",
   "execution_count": 19,
   "metadata": {
    "extensions": {
     "jupyter_dashboards": {
      "version": 1,
      "views": {
       "grid_default": {
        "col": 8,
        "height": 8,
        "hidden": false,
        "row": 0,
        "width": 3
       },
       "report_default": {
        "hidden": false
       }
      }
     }
    }
   },
   "outputs": [
    {
     "data": {
      "application/vnd.jupyter.widget-view+json": {
       "model_id": "ed3af9644b634bf3abc044f26ff1785b",
       "version_major": 2,
       "version_minor": 0
      },
      "text/html": [
       "<p>Failed to display Jupyter Widget of type <code>Select</code>.</p>\n",
       "<p>\n",
       "  If you're reading this message in Jupyter Notebook or JupyterLab, it may mean\n",
       "  that the widgets JavaScript is still loading. If this message persists, it\n",
       "  likely means that the widgets JavaScript library is either not installed or\n",
       "  not enabled. See the <a href=\"https://ipywidgets.readthedocs.io/en/stable/user_install.html\">Jupyter\n",
       "  Widgets Documentation</a> for setup instructions.\n",
       "</p>\n",
       "<p>\n",
       "  If you're reading this message in another notebook frontend (for example, a static\n",
       "  rendering on GitHub or <a href=\"https://nbviewer.jupyter.org/\">NBViewer</a>),\n",
       "  it may mean that your frontend doesn't currently support widgets.\n",
       "</p>\n"
      ],
      "text/plain": [
       "Select(description=u'Wizards', options=('return correlation', 'marketcap', 'return histogram', 'table', 'trades', 'chart', 'return chart', 'return PCA'), value='return correlation')"
      ]
     },
     "metadata": {},
     "output_type": "display_data"
    },
    {
     "data": {
      "application/vnd.jupyter.widget-view+json": {
       "model_id": "093946f057c24dc386908e5954d6dcb4",
       "version_major": 2,
       "version_minor": 0
      },
      "text/html": [
       "<p>Failed to display Jupyter Widget of type <code>Button</code>.</p>\n",
       "<p>\n",
       "  If you're reading this message in Jupyter Notebook or JupyterLab, it may mean\n",
       "  that the widgets JavaScript is still loading. If this message persists, it\n",
       "  likely means that the widgets JavaScript library is either not installed or\n",
       "  not enabled. See the <a href=\"https://ipywidgets.readthedocs.io/en/stable/user_install.html\">Jupyter\n",
       "  Widgets Documentation</a> for setup instructions.\n",
       "</p>\n",
       "<p>\n",
       "  If you're reading this message in another notebook frontend (for example, a static\n",
       "  rendering on GitHub or <a href=\"https://nbviewer.jupyter.org/\">NBViewer</a>),\n",
       "  it may mean that your frontend doesn't currently support widgets.\n",
       "</p>\n"
      ],
      "text/plain": [
       "Button(description=u'New Wizard', style=ButtonStyle())"
      ]
     },
     "metadata": {},
     "output_type": "display_data"
    },
    {
     "data": {
      "application/vnd.jupyter.widget-view+json": {
       "model_id": "f9a9055395444e769838785e680eea3a",
       "version_major": 2,
       "version_minor": 0
      },
      "text/html": [
       "<p>Failed to display Jupyter Widget of type <code>Button</code>.</p>\n",
       "<p>\n",
       "  If you're reading this message in Jupyter Notebook or JupyterLab, it may mean\n",
       "  that the widgets JavaScript is still loading. If this message persists, it\n",
       "  likely means that the widgets JavaScript library is either not installed or\n",
       "  not enabled. See the <a href=\"https://ipywidgets.readthedocs.io/en/stable/user_install.html\">Jupyter\n",
       "  Widgets Documentation</a> for setup instructions.\n",
       "</p>\n",
       "<p>\n",
       "  If you're reading this message in another notebook frontend (for example, a static\n",
       "  rendering on GitHub or <a href=\"https://nbviewer.jupyter.org/\">NBViewer</a>),\n",
       "  it may mean that your frontend doesn't currently support widgets.\n",
       "</p>\n"
      ],
      "text/plain": [
       "Button(description=u'Clear Wizards', style=ButtonStyle())"
      ]
     },
     "metadata": {},
     "output_type": "display_data"
    }
   ],
   "source": [
    "''' \n",
    "xxxxxxxxxxxxxx\n",
    "xxxxxxxxxxxxxx\n",
    "WIDGET WIDGET \n",
    "xxxxxxxxxxxxxx\n",
    "xxxxxxxxxxxxxx\n",
    "'''\n",
    "\n",
    "this_cell = 19 # This should be the last UI cell so use this ID specifically\n",
    "widget_map = {\n",
    "    'table':10,\n",
    "    'chart':11,\n",
    "    'return chart':12,\n",
    "    'return correlation':13,\n",
    "    'return PCA':14,\n",
    "    'marketcap':15,\n",
    "    'return histogram':16,\n",
    "    'trades': 17\n",
    "}\n",
    "\n",
    "\n",
    "widget_types = widgets.Select(\n",
    "    options=widget_map.keys(),\n",
    "    description='Wizards',\n",
    "    disabled=False\n",
    ")\n",
    "\n",
    "def add_wizard(x):\n",
    "    global widget_ids\n",
    "    widget_id = widget_map[widget_types.value]\n",
    "    \n",
    "    # JS to add and execute a cell w/ certain ID\n",
    "    js = '''\n",
    "    var cell_id = %s;\n",
    "    var all_cells =Jupyter.notebook.get_cells();\n",
    "    var cells = [all_cells[cell_id]]\n",
    "    Jupyter.notebook.clipboard = [];\n",
    "    var cell_json;\n",
    "    for (var i=0; i < cells.length; i++) {\n",
    "        cell_json = cells[i].toJSON();\n",
    "        if (cell_json.metadata.deletable !== undefined) {\n",
    "            delete cell_json.metadata.deletable;\n",
    "        }\n",
    "        Jupyter.notebook.clipboard.push(cell_json);\n",
    "    }\n",
    "    Jupyter.notebook.enable_paste();\n",
    "\n",
    "    // Paste\n",
    "    if (Jupyter.notebook.clipboard !== null && Jupyter.notebook.paste_enabled) {\n",
    "        var first_inserted = null;\n",
    "        for (var i = Jupyter.notebook.clipboard.length-1; i >= 0; i--) {\n",
    "            var cell_data = Jupyter.notebook.clipboard[i];\n",
    "            var new_cell = Jupyter.notebook.insert_cell_below(cell_data.cell_type);\n",
    "            new_cell.fromJSON(cell_data);\n",
    "            if (first_inserted === null) {\n",
    "                first_inserted = new_cell;\n",
    "            }\n",
    "        }\n",
    "        first_inserted.focus_cell();\n",
    "    }\n",
    "\n",
    "    // Execute\n",
    "    Jupyter.notebook.execute_cell();\n",
    "    $('button[data-dashboard-state=\"notebook\"]').click();\n",
    "    $('button[data-dashboard-state=\"grid\"]').click();\n",
    "    '''%(str(widget_id))\n",
    "    \n",
    "    display_javascript(Javascript(js))\n",
    "    \n",
    "    # Make sure we update widget id list\n",
    "    widget_ids.append((widget_types.value, len(widget_ids)+this_cell))\n",
    "    \n",
    "def remove_wizards(x):\n",
    "    global widget_ids\n",
    "    id_list = [i[1] for i in widget_ids]\n",
    "    \n",
    "    # JS to add and execute a cell w/ certain ID\n",
    "    js = '''Jupyter.notebook.delete_cells(%s)'''%(str(id_list))\n",
    "    \n",
    "    display_javascript(Javascript(js))\n",
    "    widget_ids = []\n",
    "\n",
    "    \n",
    "add_widget_button = widgets.Button(description=\"New Wizard\")\n",
    "add_widget_button.on_click(add_wizard)\n",
    "remove_widget_button = widgets.Button(description=\"Clear Wizards\")\n",
    "remove_widget_button.on_click(remove_wizards)\n",
    "\n",
    "display(widget_types)\n",
    "display(add_widget_button)\n",
    "display(remove_widget_button)"
   ]
  },
  {
   "cell_type": "code",
   "execution_count": null,
   "metadata": {
    "extensions": {
     "jupyter_dashboards": {
      "version": 1,
      "views": {
       "grid_default": {
        "hidden": true
       },
       "report_default": {}
      }
     }
    }
   },
   "outputs": [],
   "source": []
  },
  {
   "cell_type": "code",
   "execution_count": 20,
   "metadata": {
    "extensions": {
     "jupyter_dashboards": {
      "version": 1,
      "views": {
       "grid_default": {
        "hidden": true
       },
       "report_default": {}
      }
     }
    }
   },
   "outputs": [
    {
     "data": {
      "application/javascript": [
       "$('button[data-dashboard-state=\"grid\"]').click();"
      ]
     },
     "metadata": {},
     "output_type": "display_data"
    }
   ],
   "source": [
    "done = True\n",
    "js = '''$('button[data-dashboard-state=\"grid\"]').click();'''\n",
    "display_javascript(Javascript(js))"
   ]
  },
  {
   "cell_type": "code",
   "execution_count": null,
   "metadata": {
    "extensions": {
     "jupyter_dashboards": {
      "version": 1,
      "views": {
       "grid_default": {
        "hidden": true
       },
       "report_default": {}
      }
     }
    }
   },
   "outputs": [],
   "source": []
  },
  {
   "cell_type": "code",
   "execution_count": null,
   "metadata": {},
   "outputs": [],
   "source": []
  }
 ],
 "metadata": {
  "extensions": {
   "jupyter_dashboards": {
    "activeView": "grid_default",
    "version": 1,
    "views": {
     "grid_default": {
      "cellMargin": 10,
      "defaultCellHeight": 20,
      "maxColumns": 12,
      "name": "grid",
      "type": "grid"
     },
     "report_default": {
      "name": "report",
      "type": "report"
     }
    }
   }
  },
  "kernelspec": {
   "display_name": "Python 2",
   "language": "python",
   "name": "python2"
  },
  "language_info": {
   "codemirror_mode": {
    "name": "ipython",
    "version": 2
   },
   "file_extension": ".py",
   "mimetype": "text/x-python",
   "name": "python",
   "nbconvert_exporter": "python",
   "pygments_lexer": "ipython2",
   "version": "2.7.14"
  }
 },
 "nbformat": 4,
 "nbformat_minor": 2
}
