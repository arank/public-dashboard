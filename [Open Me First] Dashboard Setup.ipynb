{
 "cells": [
  {
   "cell_type": "markdown",
   "metadata": {},
   "source": [
    "# Setup A New Dashboard\n",
    "\n",
    "![](../images/rnra.png)\n",
    "\n",
    "### To run a new dashboard select the \"Kernel\" menu above then select \"Restart & Run All\". This should pull a file called \"Dashboard\" into the Crypto folder that this file is located in. Open that file and do the select the \"Kernel\" menu above then select \"Restart & Run All\" again to start the dashboard. Once you are done with the dashboard delete it from the Crypto folder."
   ]
  },
  {
   "cell_type": "code",
   "execution_count": 1,
   "metadata": {},
   "outputs": [
    {
     "name": "stdout",
     "output_type": "stream",
     "text": [
      "  % Total    % Received % Xferd  Average Speed   Time    Time     Time  Current\n",
      "                                 Dload  Upload   Total   Spent    Left  Speed\n",
      "100 68041  100 68041    0     0   218k      0 --:--:-- --:--:-- --:--:--  219k\n"
     ]
    }
   ],
   "source": [
    "!curl https://raw.githubusercontent.com/arank/public-dashboard/master/Demo%20Dashboard.ipynb > Price\\ Dashboard.ipynb"
   ]
  },
  {
   "cell_type": "code",
   "execution_count": null,
   "metadata": {},
   "outputs": [],
   "source": [
    "!curl https://raw.githubusercontent.com/arank/public-dashboard/master/Demo%20Dashboard%20Text.ipynb > Sentiment\\ Dashboard.ipynb"
   ]
  }
 ],
 "metadata": {
  "kernelspec": {
   "display_name": "Python 2",
   "language": "python",
   "name": "python2"
  },
  "language_info": {
   "codemirror_mode": {
    "name": "ipython",
    "version": 2
   },
   "file_extension": ".py",
   "mimetype": "text/x-python",
   "name": "python",
   "nbconvert_exporter": "python",
   "pygments_lexer": "ipython2",
   "version": "2.7.14"
  }
 },
 "nbformat": 4,
 "nbformat_minor": 2
}
