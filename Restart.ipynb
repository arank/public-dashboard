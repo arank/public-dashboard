{
 "cells": [
  {
   "cell_type": "markdown",
   "metadata": {},
   "source": [
    "# Reset Console\n",
    "\n",
    "To reset the system press the \"Kernel\" Button above then select \"Restart and Run All\"\n",
    "\n",
    "Your new explorer should appear in the directory"
   ]
  },
  {
   "cell_type": "code",
   "execution_count": 9,
   "metadata": {},
   "outputs": [
    {
     "name": "stdout",
     "output_type": "stream",
     "text": [
      "Cloning into 'public-dashboard'...\n",
      "remote: Counting objects: 46, done.\u001b[K\n",
      "remote: Compressing objects: 100% (30/30), done.\u001b[K\n",
      "remote: Total 46 (delta 28), reused 32 (delta 14), pack-reused 0\u001b[K\n",
      "Unpacking objects: 100% (46/46), done.\n",
      "Checking connectivity... done.\n"
     ]
    }
   ],
   "source": [
    "!rm -rf public-dashboard\n",
    "!git clone https://github.com/arank/public-dashboard.git\n",
    "!cp public-dashboard/Test\\ Dashboard.ipynb ./God\\ Mode\\ Enabled\\ Explorer.ipynb\n",
    "!rm -rf public-dashboard"
   ]
  },
  {
   "cell_type": "code",
   "execution_count": null,
   "metadata": {},
   "outputs": [],
   "source": []
  }
 ],
 "metadata": {
  "kernelspec": {
   "display_name": "Python 2",
   "language": "python",
   "name": "python2"
  },
  "language_info": {
   "codemirror_mode": {
    "name": "ipython",
    "version": 2
   },
   "file_extension": ".py",
   "mimetype": "text/x-python",
   "name": "python",
   "nbconvert_exporter": "python",
   "pygments_lexer": "ipython2",
   "version": "2.7.12"
  }
 },
 "nbformat": 4,
 "nbformat_minor": 2
}
