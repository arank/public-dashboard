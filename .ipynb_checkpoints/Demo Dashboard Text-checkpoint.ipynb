{
 "cells": [
  {
   "cell_type": "code",
   "execution_count": 1,
   "metadata": {
    "extensions": {
     "jupyter_dashboards": {
      "version": 1,
      "views": {
       "grid_default": {
        "hidden": true
       },
       "report_default": {}
      }
     }
    }
   },
   "outputs": [],
   "source": [
    "import sys\n",
    "from datetime import datetime, timedelta\n",
    "import pandas as pd\n",
    "import numpy as np\n",
    "import json\n",
    "import os\n",
    "sys.path.append(\"/Users/arankhanna/Dropbox/Dolores/Iverson\")"
   ]
  },
  {
   "cell_type": "code",
   "execution_count": 2,
   "metadata": {
    "extensions": {
     "jupyter_dashboards": {
      "version": 1,
      "views": {
       "grid_default": {
        "hidden": true
       },
       "report_default": {}
      }
     }
    }
   },
   "outputs": [],
   "source": [
    "from common.file_system.s3 import S3\n",
    "fs = S3()\n",
    "\n",
    "class ChatHistoryTracker(object):#CandleStickTracker):\n",
    "    \"\"\"An ecapsulation of any group chat history\n",
    "\n",
    "    Attributes:\n",
    "        service: A string representing the service vending the chat.\n",
    "    \"\"\"\n",
    "\n",
    "    def __init__(self, service='telegram', balance=0.0):\n",
    "        \"\"\"Return a Service\"\"\"\n",
    "        self.service = service\n",
    "        self.msgs = []\n",
    "        self.alerts = []\n",
    "        self.usrs = set()\n",
    "\n",
    "        \n",
    "    def initalize(self, chat_name='officialios'):\n",
    "        service = self.service\n",
    "        names = fs.list_files('data/'+service+'/'+chat_name)\n",
    "        tot_files = len(names)\n",
    "        \n",
    "#         print(f\"Pulling {tot_files} history files from server please wait...\")\n",
    "        print(\"Pulling \"+str(tot_files)+\" history files from server please wait...\")\n",
    "\n",
    "        for n in names:\n",
    "            fs.download_file(n, 'dumps/')\n",
    "            filen = n.split('/')[-1]\n",
    "            with open('dumps/'+filen, 'r') as infile:\n",
    "                chat_history = json.loads(infile.read())\n",
    "                for message in chat_history:\n",
    "                    if message['_'] == 'Message':\n",
    "                        self.msgs.append((message['message'], message['from_id'],  datetime.utcfromtimestamp(message['date'])))\n",
    "                        self.usrs.add(message['from_id'])\n",
    "                    elif message['_'] == 'MessageService':\n",
    "                        self.alerts.append((message['action'], datetime.utcfromtimestamp(message['date'])))\n",
    "                    else:\n",
    "                        print(message)\n",
    "                        raise(\"Unexpected Message Type\")\n",
    "            os.remove('dumps/'+filen)\n",
    "        \n",
    "        tot = len(self.msgs)\n",
    "#         first = self.msgs[0][2]\n",
    "#         last = self.msgs[-1][2]\n",
    "#         print(f\"{tot} total messages from {first:%B %d, %Y} to {last:%B %d, %Y}\")\n",
    "        first = self.msgs[0][2].strftime(\"%Y-%m-%d\")\n",
    "        last = self.msgs[-1][2].strftime(\"%Y-%m-%d\")\n",
    "        print(str(tot)+\" total messages from \"+first+\" to \"+last)"
   ]
  },
  {
   "cell_type": "code",
   "execution_count": 3,
   "metadata": {
    "extensions": {
     "jupyter_dashboards": {
      "version": 1,
      "views": {
       "grid_default": {
        "col": 0,
        "height": 12,
        "hidden": false,
        "row": 0,
        "width": 4
       },
       "report_default": {}
      }
     }
    }
   },
   "outputs": [
    {
     "data": {
      "text/html": [
       "<style>.container { width:100% !important; }</style>"
      ],
      "text/plain": [
       "<IPython.core.display.HTML object>"
      ]
     },
     "metadata": {},
     "output_type": "display_data"
    },
    {
     "data": {
      "text/html": [
       "<h1>Welcome to the IV Lab Dashboard!</h1><h2>This area titled 'Hidden Cells' is where the available Wizards outside of your workspace live<h2/><h3>To move these up into your workspace hover over and click the button in the top right</h3><h4>And to move widgets down from your workspace above hover over and click X the button in the top right</h4>"
      ],
      "text/plain": [
       "<IPython.core.display.HTML object>"
      ]
     },
     "metadata": {},
     "output_type": "display_data"
    }
   ],
   "source": [
    "from IPython.display import display, display_javascript\n",
    "from IPython.display import clear_output\n",
    "import ipywidgets as widgets\n",
    "from IPython.display import Javascript\n",
    "from IPython.core.display import display, HTML\n",
    "\n",
    "# This shit should always run for dashboards\n",
    "display(HTML(\"<style>.container { width:100% !important; }</style>\"))\n",
    "\n",
    "# DECLARE ALL INITIAL TRACKERS\n",
    "ct = ChatHistoryTracker('telegram')\n",
    "\n",
    "# State for Dashboard\n",
    "done = False\n",
    "widget_ids = []\n",
    "\n",
    "# Hi I'm a widget message\n",
    "display(HTML(\"<h1>Welcome to the IV Lab Dashboard!</h1>\\\n",
    "<h2>This area titled 'Hidden Cells' is where the available Wizards outside of your workspace live<h2/>\\\n",
    "<h3>To move these up into your workspace hover over and click the button in the top right</h3>\\\n",
    "<h4>And to move widgets down from your workspace above hover over and click X the button in the top right</h4>\"))"
   ]
  },
  {
   "cell_type": "code",
   "execution_count": 4,
   "metadata": {
    "extensions": {
     "jupyter_dashboards": {
      "version": 1,
      "views": {
       "grid_default": {
        "col": 4,
        "height": 5,
        "hidden": false,
        "row": 0,
        "width": 4
       },
       "report_default": {}
      }
     }
    }
   },
   "outputs": [
    {
     "name": "stdout",
     "output_type": "stream",
     "text": [
      "Tracker Control Panel\n"
     ]
    },
    {
     "data": {
      "application/vnd.jupyter.widget-view+json": {
       "model_id": "f5679d689c76457e9f11b86988f015a6",
       "version_major": 2,
       "version_minor": 0
      },
      "text/plain": [
       "Dropdown(options=('officialios',), value='officialios')"
      ]
     },
     "metadata": {},
     "output_type": "display_data"
    },
    {
     "data": {
      "application/vnd.jupyter.widget-view+json": {
       "model_id": "93c24f0795974a8aacd499c88a5b1750",
       "version_major": 2,
       "version_minor": 0
      },
      "text/plain": [
       "Button(description='Refresh Data', style=ButtonStyle())"
      ]
     },
     "metadata": {},
     "output_type": "display_data"
    }
   ],
   "source": [
    "''' \n",
    "xxxxxxxxxxxxxx\n",
    "xxxxxxxxxxxxxx\n",
    "MASTER WIDGET \n",
    "xxxxxxxxxxxxxx\n",
    "xxxxxxxxxxxxxx\n",
    "'''\n",
    "from ipywidgets import IntSlider, Text, VBox\n",
    "import time\n",
    "\n",
    "assets = widgets.Dropdown(options = ['officialios'])\n",
    "\n",
    "# selected_start = widgets.DatePicker(\n",
    "#     description='From',\n",
    "#     disabled=False\n",
    "# )\n",
    "\n",
    "# selected_end = widgets.DatePicker(\n",
    "#     description='To',\n",
    "#     disabled=False\n",
    "# )\n",
    "\n",
    "refresh_button = widgets.Button(description=\"Refresh Data\")\n",
    "\n",
    "\n",
    "def refresh(b):\n",
    "    product = assets.value\n",
    "    \n",
    "    # INIT TRACKERS    \n",
    "    ct.initalize(product)# ct.initalize(self, chat_name='officialios')    \n",
    "\n",
    "print(\"Tracker Control Panel\")\n",
    "\n",
    "display(assets)\n",
    "display(refresh_button)\n",
    "refresh_button.on_click(refresh)"
   ]
  },
  {
   "cell_type": "code",
   "execution_count": 5,
   "metadata": {
    "extensions": {
     "jupyter_dashboards": {
      "version": 1,
      "views": {
       "grid_default": {
        "hidden": true
       },
       "report_default": {}
      }
     }
    }
   },
   "outputs": [],
   "source": [
    "''' \n",
    "xxxxxxxxxxxxxx\n",
    "xxxxxxxxxxxxxx\n",
    "USER GROWTH WIDGET \n",
    "xxxxxxxxxxxxxx\n",
    "xxxxxxxxxxxxxx\n",
    "'''\n",
    "from highcharts import Highstock\n",
    "import pandas as pd\n",
    "\n",
    "\n",
    "def display_user_growth_wizard():\n",
    "    \n",
    "    growth_button = widgets.Button(description=\"Get Growth\")\n",
    "        \n",
    "    vbox = VBox([growth_button])\n",
    "    menu = widgets.Accordion(children=[vbox])\n",
    "    menu.set_title(0, 'Growth Selector')\n",
    "\n",
    "    def get_growth(b):\n",
    "\n",
    "        # reset view\n",
    "        clear_output()\n",
    "        display(menu)\n",
    "        \n",
    "        # Get chat participants joing and leaving\n",
    "        num_users = 1\n",
    "        user_timeline = {'time':[], 'users':[]}\n",
    "        user_events = {'time':[], 'users':[]}\n",
    "\n",
    "        for a in ct.alerts:\n",
    "            l = a[0]\n",
    "            delta = 0\n",
    "            if l['_'] == 'MessageActionChatDeleteUser':\n",
    "                delta = -1\n",
    "            elif l['_'] == 'MessageActionChatAddUser':\n",
    "                delta = 1\n",
    "            num_users += delta\n",
    "\n",
    "            user_timeline['time'].append(a[1])\n",
    "            user_timeline['users'].append(num_users)\n",
    "\n",
    "            user_events['time'].append(a[1])\n",
    "            user_events['users'].append(delta)\n",
    "\n",
    "\n",
    "        # Plot chat size\n",
    "        df = pd.DataFrame(user_timeline)\n",
    "        #df = pd.DataFrame(user_events)\n",
    "        usr_timeline = df.set_index(pd.DatetimeIndex(df['time']))\n",
    "        usr_timeline.drop('time', axis=1, inplace=True)\n",
    "\n",
    "\n",
    "\n",
    "        usr_candles = usr_timeline['users'].resample('24H').ohlc()\n",
    "\n",
    "        chart_name = 'Telegram User Growth'\n",
    "\n",
    "        chart = Highstock()\n",
    "        options = {\n",
    "            'title': {\n",
    "                'text': chart_name\n",
    "            },\n",
    "            'rangeSelector': {\n",
    "                'selected': 4\n",
    "            },\n",
    "            'yAxis': [{\n",
    "                'labels': {\n",
    "                    'align': 'right',\n",
    "                    'x': -3\n",
    "                },\n",
    "                'title': {\n",
    "                    'text': 'OHLC'\n",
    "                },\n",
    "                'height': '60%',\n",
    "                'lineWidth': 2\n",
    "            }]\n",
    "        }\n",
    "\n",
    "        pd_sticks = usr_candles\n",
    "\n",
    "        o = pd_sticks['open'].as_matrix()\n",
    "        h = pd_sticks['high'].as_matrix()\n",
    "        l = pd_sticks['low'].as_matrix()\n",
    "        c = pd_sticks['close'].as_matrix()\n",
    "\n",
    "        idx =  pd_sticks.index.tolist()\n",
    "\n",
    "        ohlc = []\n",
    "        for i in range(len(idx)):\n",
    "            ohlc.append(\n",
    "                [\n",
    "                    idx[i], # the date\n",
    "                    o[i], # open\n",
    "                    h[i], # high\n",
    "                    l[i], # low\n",
    "                    c[i]  # close\n",
    "                ]\n",
    "                )\n",
    "\n",
    "\n",
    "        chart.add_data_set(ohlc, 'candlestick', 'users')\n",
    "        chart.set_dict_options(options)\n",
    "\n",
    "\n",
    "        display(chart)\n",
    "\n",
    "        \n",
    "        \n",
    "    # Wire up controls\n",
    "    growth_button.on_click(get_growth)\n",
    "\n",
    "    # reset view\n",
    "    display(menu)\n",
    "\n",
    "# display_user_growth_wizard()"
   ]
  },
  {
   "cell_type": "code",
   "execution_count": 6,
   "metadata": {
    "extensions": {
     "jupyter_dashboards": {
      "version": 1,
      "views": {
       "grid_default": {
        "hidden": true
       },
       "report_default": {}
      }
     }
    }
   },
   "outputs": [],
   "source": [
    "''' \n",
    "xxxxxxxxxxxxxx\n",
    "xxxxxxxxxxxxxx\n",
    "MESSAGES WIDGET \n",
    "xxxxxxxxxxxxxx\n",
    "xxxxxxxxxxxxxx\n",
    "'''\n",
    "\n",
    "from highcharts import Highchart\n",
    "\n",
    "def display_messages_wizard():\n",
    "    \n",
    "    messages_button = widgets.Button(description=\"Get Messages\")\n",
    "        \n",
    "    vbox = VBox([messages_button])\n",
    "    menu = widgets.Accordion(children=[vbox])\n",
    "    menu.set_title(0, 'Message Selector')\n",
    "\n",
    "    def get_messages(b):\n",
    "        \n",
    "        # reset view\n",
    "        clear_output()\n",
    "        display(menu)\n",
    "        \n",
    "        messages = {'message':[], 'user':[], 'time':[]}\n",
    "\n",
    "        for m in ct.msgs:\n",
    "            messages['time'].append(m[2])\n",
    "            messages['user'].append(m[1])\n",
    "            messages['message'].append(m[0])\n",
    "\n",
    "        # Plot chat size\n",
    "        df = pd.DataFrame(messages)\n",
    "        msg_timeline = df.set_index(pd.DatetimeIndex(df['time']))\n",
    "        msg_timeline.drop('time', axis=1, inplace=True)\n",
    "\n",
    "\n",
    "        # Msg counts\n",
    "        msg_counts = msg_timeline['message'].resample('24H').count()\n",
    "\n",
    "        chart = Highchart()\n",
    "\n",
    "\n",
    "        chart_name = 'Messages Per Day'\n",
    "        options = {\n",
    "            'title': {\n",
    "                'text': chart_name\n",
    "            },\n",
    "            'plotOptions':{'line': {\n",
    "                        'dataLabels': {\n",
    "                            'enabled': True\n",
    "                            }}},\n",
    "            'chart': {\n",
    "                'zoomType': 'x'\n",
    "            },\n",
    "            'xAxis': { 'type': 'datetime' }\n",
    "        }\n",
    "\n",
    "\n",
    "        p = msg_counts.as_matrix()\n",
    "        idx =  msg_counts.index.tolist()\n",
    "\n",
    "        hc_series = []\n",
    "        for j in range(len(idx)):\n",
    "            hc_series.append([\n",
    "                idx[j],\n",
    "                int(p[j])\n",
    "            ])\n",
    "\n",
    "\n",
    "        chart.add_data_set(hc_series, 'line', 'Messages')\n",
    "        chart.set_dict_options(options)\n",
    "\n",
    "\n",
    "        display(chart)\n",
    "\n",
    "\n",
    "    # Wire up controls\n",
    "    messages_button.on_click(get_messages)\n",
    "\n",
    "    # reset view\n",
    "    display(menu)\n",
    "\n",
    "# display_messages_wizard()"
   ]
  },
  {
   "cell_type": "code",
   "execution_count": 7,
   "metadata": {
    "extensions": {
     "jupyter_dashboards": {
      "version": 1,
      "views": {
       "grid_default": {
        "hidden": true
       },
       "report_default": {}
      }
     }
    }
   },
   "outputs": [],
   "source": [
    "''' \n",
    "xxxxxxxxxxxxxx\n",
    "xxxxxxxxxxxxxx\n",
    "LDA WIDGET \n",
    "xxxxxxxxxxxxxx\n",
    "xxxxxxxxxxxxxx\n",
    "'''\n",
    "from sklearn.feature_extraction.text import CountVectorizer, TfidfVectorizer\n",
    "from sklearn.decomposition import LatentDirichletAllocation\n",
    "import pyLDAvis\n",
    "import pyLDAvis.sklearn\n",
    "from sklearn.feature_extraction.text import CountVectorizer, TfidfVectorizer\n",
    "from sklearn.decomposition import LatentDirichletAllocation\n",
    "\n",
    "pyLDAvis.enable_notebook()\n",
    "projection_types = ['pca', 'tsne', 'mmds']\n",
    "\n",
    "def display_lda_wizard():\n",
    "\n",
    "    projection_selector = widgets.Select(\n",
    "        options=projection_types,\n",
    "        description='Projection',\n",
    "        disabled=False\n",
    "    )\n",
    "    \n",
    "    \n",
    "    lda_start = widgets.DatePicker(\n",
    "        description='Start Date',\n",
    "        disabled=False\n",
    "    )\n",
    "\n",
    "    lda_end = widgets.DatePicker(\n",
    "        description='End Date',\n",
    "        disabled=False\n",
    "    )\n",
    "    \n",
    "    lda_button = widgets.Button(description=\"Get LDA\")\n",
    "    \n",
    "    vbox = VBox([projection_selector, lda_start, lda_end, lda_button])\n",
    "    menu = widgets.Accordion(children=[vbox])\n",
    "    menu.set_title(0, 'Argument Selector')\n",
    "    \n",
    "    def get_lda(b):\n",
    "        \n",
    "        # reset view\n",
    "        clear_output()\n",
    "        display(menu)\n",
    "        \n",
    "        first = datetime.fromordinal(lda_start.value.toordinal())\n",
    "        last= datetime.fromordinal(lda_end.value.toordinal())\n",
    "\n",
    "        mds = projection_selector.value\n",
    "        \n",
    "        docs_raw = []\n",
    "        for msg in ct.msgs:\n",
    "            if msg[2] >= first and msg[2] <= last:\n",
    "                docs_raw.append(msg[0])\n",
    "        \n",
    "        tot = len(docs_raw)\n",
    "        \n",
    "#         print(f\"Running LDA on {tot} messages from {first:%B %d, %Y} to {last:%B %d, %Y}\\nthis could take a while, leave the window open...\")\n",
    "        \n",
    "        first_str = first.strftime(\"%Y-%m-%d\")\n",
    "        last_str = last.strftime(\"%Y-%m-%d\")\n",
    "        print(\"Running LDA on \"+str(tot)+\" messages from \"+first_str+\" to \"+last_str+\"\\n this could take a while, leave the window open...\")\n",
    "\n",
    "        \n",
    "        tf_vectorizer = CountVectorizer(strip_accents = 'unicode',\n",
    "                                        stop_words = 'english',\n",
    "                                        lowercase = True,\n",
    "                                        token_pattern = r'\\b[a-zA-Z]{3,}\\b',\n",
    "                                        max_df = 0.5, \n",
    "                                        min_df = 10)\n",
    "        dtm_tf = tf_vectorizer.fit_transform(docs_raw)\n",
    "        #print(dtm_tf.shape)\n",
    "        tfidf_vectorizer = TfidfVectorizer(**tf_vectorizer.get_params())\n",
    "        dtm_tfidf = tfidf_vectorizer.fit_transform(docs_raw)\n",
    "        #print(dtm_tfidf.shape)\n",
    "\n",
    "        # for TF DTM\n",
    "        lda_tf = LatentDirichletAllocation(n_topics=20, random_state=0)\n",
    "        lda_tf.fit(dtm_tf)\n",
    "        # for TFIDF DTM\n",
    "        lda_tfidf = LatentDirichletAllocation(n_topics=20, random_state=0)\n",
    "        lda_tfidf.fit(dtm_tfidf)\n",
    "        if mds in ['mmds', 'tsne']:\n",
    "            output = pyLDAvis.sklearn.prepare(lda_tf, dtm_tf, tf_vectorizer, mds=mds)\n",
    "        else:\n",
    "            output = pyLDAvis.sklearn.prepare(lda_tf, dtm_tf, tf_vectorizer) #pca\n",
    "        \n",
    "        display(output)\n",
    "        display(HTML(\"<style>.container { width:100% !important; }</style>\"))\n",
    "    \n",
    "    # Wire up controls\n",
    "    lda_button.on_click(get_lda)\n",
    "    \n",
    "    # reset view\n",
    "    display(menu)\n",
    "\n",
    "#display_lda_wizard()"
   ]
  },
  {
   "cell_type": "code",
   "execution_count": 8,
   "metadata": {
    "extensions": {
     "jupyter_dashboards": {
      "version": 1,
      "views": {
       "grid_default": {
        "hidden": true
       },
       "report_default": {}
      }
     }
    }
   },
   "outputs": [],
   "source": [
    "''' \n",
    "xxxxxxxxxxxxxx\n",
    "xxxxxxxxxxxxxx\n",
    "TEXT SEARCH WIDGET \n",
    "xxxxxxxxxxxxxx\n",
    "xxxxxxxxxxxxxx\n",
    "'''\n",
    "\n",
    "def display_search_wizard():\n",
    "\n",
    "    search_text = Text(\"\")\n",
    "\n",
    "    search_start = widgets.DatePicker(\n",
    "        description='Start Date',\n",
    "        disabled=False\n",
    "    )\n",
    "\n",
    "    search_end = widgets.DatePicker(\n",
    "        description='End Date',\n",
    "        disabled=False\n",
    "    )\n",
    "    \n",
    "    \n",
    "    search_button = widgets.Button(description=\"Search\")\n",
    "    \n",
    "    vbox = VBox([search_text, search_start, search_end, search_button])\n",
    "    menu = widgets.Accordion(children=[vbox])\n",
    "    menu.set_title(0, 'Search Bar')\n",
    "    \n",
    "\n",
    "    def get_search(b):\n",
    "        # Reset view\n",
    "        clear_output()\n",
    "        display(menu)\n",
    "\n",
    "        # Search\n",
    "        first = datetime.fromordinal(search_start.value.toordinal())\n",
    "        last = datetime.fromordinal(search_end.value.toordinal())\n",
    "        search = search_text.value\n",
    "\n",
    "        messages = {'message':[], 'user':[], 'time':[]}\n",
    "\n",
    "        for m in ct.msgs:\n",
    "            messages['time'].append(m[2])\n",
    "            messages['user'].append(m[1])\n",
    "            messages['message'].append(m[0])\n",
    "\n",
    "\n",
    "        # Plot chat size\n",
    "        df = pd.DataFrame(messages)\n",
    "        msg_timeline = df.set_index(pd.DatetimeIndex(df['time']))\n",
    "        msg_timeline.drop('time', axis=1, inplace=True)\n",
    "\n",
    "        pd.options.display.max_colwidth = 100\n",
    "        mask = msg_timeline['message'].str.contains(search)   \n",
    "        display(HTML(msg_timeline[first:last][mask[first:last]].to_html()))\n",
    "        \n",
    "    # Wire up controls\n",
    "    search_button.on_click(get_search)\n",
    "    \n",
    "    # Reset view\n",
    "    display(menu)\n",
    "    \n",
    "#display_search_wizard()"
   ]
  },
  {
   "cell_type": "code",
   "execution_count": 9,
   "metadata": {
    "extensions": {
     "jupyter_dashboards": {
      "version": 1,
      "views": {
       "grid_default": {
        "hidden": true
       },
       "report_default": {}
      }
     }
    }
   },
   "outputs": [],
   "source": [
    "''' \n",
    "xxxxxxxxxxxxxx\n",
    "xxxxxxxxxxxxxx\n",
    "WORDCLOUD WIDGET \n",
    "xxxxxxxxxxxxxx\n",
    "xxxxxxxxxxxxxx\n",
    "'''\n",
    "import matplotlib.pyplot as plt\n",
    "from os import path\n",
    "# from wordcloud import WordCloud\n",
    "\n",
    "\n",
    "def display_wordcloud_wizard():\n",
    "    \n",
    "    \n",
    "    cloud_start = widgets.DatePicker(\n",
    "        description='Start Date',\n",
    "        disabled=False\n",
    "    )\n",
    "\n",
    "    cloud_end = widgets.DatePicker(\n",
    "        description='End Date',\n",
    "        disabled=False\n",
    "    )\n",
    "    \n",
    "    cloud_button = widgets.Button(description=\"Get Cloud\")\n",
    "    \n",
    "    vbox = VBox([cloud_start, cloud_end, cloud_button])\n",
    "    menu = widgets.Accordion(children=[vbox])\n",
    "    menu.set_title(0, 'Argument Selector')\n",
    "    \n",
    "    def get_cloud(b):\n",
    "        \n",
    "        # reset view\n",
    "        clear_output()\n",
    "        display(menu)\n",
    "        \n",
    "        first = datetime.fromordinal(cloud_start.value.toordinal())\n",
    "        last= datetime.fromordinal(cloud_end.value.toordinal())\n",
    "\n",
    "        docs_raw = []\n",
    "        for msg in ct.msgs:\n",
    "            if msg[2] >= first and msg[2] <= last:\n",
    "                docs_raw.append(msg[0])\n",
    "        \n",
    "        tot = len(docs_raw)\n",
    "        \n",
    "#         print(f\"Generating Wordcloud on {tot} messages from {first:%B %d, %Y} to {last:%B %d, %Y}\\nthis could take a while, leave the window open...\")\n",
    "        \n",
    "        first_str = first.strftime(\"%Y-%m-%d\")\n",
    "        last_str = last.strftime(\"%Y-%m-%d\")\n",
    "        print(\"Generating Wordcloud on \"+str(tot)+\" messages from \"+first_str+\" to \"+last_str+\"\\n this could take a while, leave the window open...\")\n",
    "\n",
    "        text = ' '.join(docs_raw)\n",
    "        wordcloud = WordCloud(max_font_size=40).generate(text)\n",
    "        plt.rcParams[\"figure.figsize\"] = (20,7)\n",
    "        plt.figure()\n",
    "        plt.imshow(wordcloud, interpolation=\"bilinear\")\n",
    "        plt.axis(\"off\")\n",
    "        plt.show()\n",
    "    \n",
    "    # Wire up controls\n",
    "    cloud_button.on_click(get_cloud)\n",
    "    \n",
    "    # reset view\n",
    "    display(menu)\n",
    "\n",
    "# display_wordcloud_wizard()"
   ]
  },
  {
   "cell_type": "code",
   "execution_count": 10,
   "metadata": {
    "extensions": {
     "jupyter_dashboards": {
      "version": 1,
      "views": {
       "grid_default": {
        "hidden": true
       },
       "report_default": {}
      }
     }
    }
   },
   "outputs": [],
   "source": [
    "if done:\n",
    "    display_user_growth_wizard()"
   ]
  },
  {
   "cell_type": "code",
   "execution_count": 11,
   "metadata": {
    "extensions": {
     "jupyter_dashboards": {
      "version": 1,
      "views": {
       "grid_default": {
        "hidden": true
       },
       "report_default": {}
      }
     }
    }
   },
   "outputs": [],
   "source": [
    "if done:\n",
    "    display_messages_wizard()"
   ]
  },
  {
   "cell_type": "code",
   "execution_count": 12,
   "metadata": {
    "extensions": {
     "jupyter_dashboards": {
      "version": 1,
      "views": {
       "grid_default": {
        "hidden": true
       },
       "report_default": {}
      }
     }
    }
   },
   "outputs": [],
   "source": [
    "if done:\n",
    "    display_lda_wizard()"
   ]
  },
  {
   "cell_type": "code",
   "execution_count": 13,
   "metadata": {
    "extensions": {
     "jupyter_dashboards": {
      "version": 1,
      "views": {
       "grid_default": {
        "hidden": true
       },
       "report_default": {}
      }
     }
    }
   },
   "outputs": [],
   "source": [
    "if done:\n",
    "    display_search_wizard()"
   ]
  },
  {
   "cell_type": "code",
   "execution_count": 14,
   "metadata": {
    "extensions": {
     "jupyter_dashboards": {
      "version": 1,
      "views": {
       "grid_default": {
        "hidden": true
       },
       "report_default": {}
      }
     }
    }
   },
   "outputs": [],
   "source": [
    "if done:\n",
    "    display_wordcloud_wizard()"
   ]
  },
  {
   "cell_type": "code",
   "execution_count": 15,
   "metadata": {
    "extensions": {
     "jupyter_dashboards": {
      "version": 1,
      "views": {
       "grid_default": {
        "col": 8,
        "height": 7,
        "hidden": false,
        "row": 0,
        "width": 4
       },
       "report_default": {}
      }
     }
    }
   },
   "outputs": [
    {
     "data": {
      "application/vnd.jupyter.widget-view+json": {
       "model_id": "2020a0f0f20148b4a03a8e92444fc380",
       "version_major": 2,
       "version_minor": 0
      },
      "text/plain": [
       "Select(description='Wizards', options=('users', 'messages', 'topics', 'search', 'wordcloud'), value='users')"
      ]
     },
     "metadata": {},
     "output_type": "display_data"
    },
    {
     "data": {
      "application/vnd.jupyter.widget-view+json": {
       "model_id": "f9aea78653d944e1bf45083847714afb",
       "version_major": 2,
       "version_minor": 0
      },
      "text/plain": [
       "Button(description='New Wizard', style=ButtonStyle())"
      ]
     },
     "metadata": {},
     "output_type": "display_data"
    },
    {
     "data": {
      "application/vnd.jupyter.widget-view+json": {
       "model_id": "e59b73fe741546d7bd8dca02882ba540",
       "version_major": 2,
       "version_minor": 0
      },
      "text/plain": [
       "Button(description='Clear Wizards', style=ButtonStyle())"
      ]
     },
     "metadata": {},
     "output_type": "display_data"
    }
   ],
   "source": [
    "''' \n",
    "xxxxxxxxxxxxxx\n",
    "xxxxxxxxxxxxxx\n",
    "WIDGET WIDGET \n",
    "xxxxxxxxxxxxxx\n",
    "xxxxxxxxxxxxxx\n",
    "'''\n",
    "\n",
    "this_cell = 15 # This should be the last UI cell so use this ID specifically\n",
    "widget_map = {\n",
    "    'users':9,\n",
    "    'messages':10,\n",
    "    'topics':11,\n",
    "    'search':10,\n",
    "    'wordcloud':13\n",
    "}\n",
    "\n",
    "\n",
    "widget_types = widgets.Select(\n",
    "    options=widget_map.keys(),\n",
    "    description='Wizards',\n",
    "    disabled=False\n",
    ")\n",
    "\n",
    "def add_wizard(x):\n",
    "    global widget_ids\n",
    "    widget_id = widget_map[widget_types.value]\n",
    "    \n",
    "    # JS to add and execute a cell w/ certain ID\n",
    "    js = '''\n",
    "    var cell_id = %s;\n",
    "    var all_cells =Jupyter.notebook.get_cells();\n",
    "    var cells = [all_cells[cell_id]]\n",
    "    Jupyter.notebook.clipboard = [];\n",
    "    var cell_json;\n",
    "    for (var i=0; i < cells.length; i++) {\n",
    "        cell_json = cells[i].toJSON();\n",
    "        if (cell_json.metadata.deletable !== undefined) {\n",
    "            delete cell_json.metadata.deletable;\n",
    "        }\n",
    "        Jupyter.notebook.clipboard.push(cell_json);\n",
    "    }\n",
    "    Jupyter.notebook.enable_paste();\n",
    "\n",
    "    // Paste\n",
    "    if (Jupyter.notebook.clipboard !== null && Jupyter.notebook.paste_enabled) {\n",
    "        var first_inserted = null;\n",
    "        for (var i = Jupyter.notebook.clipboard.length-1; i >= 0; i--) {\n",
    "            var cell_data = Jupyter.notebook.clipboard[i];\n",
    "            var new_cell = Jupyter.notebook.insert_cell_below(cell_data.cell_type);\n",
    "            new_cell.fromJSON(cell_data);\n",
    "            if (first_inserted === null) {\n",
    "                first_inserted = new_cell;\n",
    "            }\n",
    "        }\n",
    "        first_inserted.focus_cell();\n",
    "    }\n",
    "\n",
    "    // Execute\n",
    "    Jupyter.notebook.execute_cell();\n",
    "    $('button[data-dashboard-state=\"notebook\"]').click();\n",
    "    $('button[data-dashboard-state=\"grid\"]').click();\n",
    "    '''%(str(widget_id))\n",
    "    \n",
    "    display_javascript(Javascript(js))\n",
    "    \n",
    "    # Make sure we update widget id list\n",
    "    widget_ids.append((widget_types.value, len(widget_ids)+this_cell))\n",
    "    \n",
    "def remove_wizards(x):\n",
    "    global widget_ids\n",
    "    id_list = [i[1] for i in widget_ids]\n",
    "    \n",
    "    # JS to add and execute a cell w/ certain ID\n",
    "    js = '''Jupyter.notebook.delete_cells(%s)'''%(str(id_list))\n",
    "    \n",
    "    display_javascript(Javascript(js))\n",
    "    widget_ids = []\n",
    "\n",
    "    \n",
    "add_widget_button = widgets.Button(description=\"New Wizard\")\n",
    "add_widget_button.on_click(add_wizard)\n",
    "remove_widget_button = widgets.Button(description=\"Clear Wizards\")\n",
    "remove_widget_button.on_click(remove_wizards)\n",
    "\n",
    "display(widget_types)\n",
    "display(add_widget_button)\n",
    "display(remove_widget_button)"
   ]
  },
  {
   "cell_type": "code",
   "execution_count": null,
   "metadata": {
    "extensions": {
     "jupyter_dashboards": {
      "version": 1,
      "views": {
       "grid_default": {
        "hidden": true
       },
       "report_default": {}
      }
     }
    }
   },
   "outputs": [],
   "source": []
  },
  {
   "cell_type": "code",
   "execution_count": 16,
   "metadata": {
    "extensions": {
     "jupyter_dashboards": {
      "version": 1,
      "views": {
       "grid_default": {
        "hidden": true
       },
       "report_default": {}
      }
     }
    }
   },
   "outputs": [
    {
     "data": {
      "application/javascript": [
       "$('button[data-dashboard-state=\"grid\"]').click();"
      ]
     },
     "metadata": {},
     "output_type": "display_data"
    }
   ],
   "source": [
    "done = True\n",
    "js = '''$('button[data-dashboard-state=\"grid\"]').click();'''\n",
    "display_javascript(Javascript(js))"
   ]
  },
  {
   "cell_type": "code",
   "execution_count": null,
   "metadata": {
    "extensions": {
     "jupyter_dashboards": {
      "version": 1,
      "views": {
       "grid_default": {
        "hidden": true
       },
       "report_default": {}
      }
     }
    }
   },
   "outputs": [],
   "source": []
  },
  {
   "cell_type": "code",
   "execution_count": 17,
   "metadata": {
    "extensions": {
     "jupyter_dashboards": {
      "version": 1,
      "views": {
       "grid_default": {
        "hidden": true
       },
       "report_default": {}
      }
     }
    }
   },
   "outputs": [],
   "source": [
    "# # Get senders + frequency\n",
    "# senders = {}\n",
    "# for msg in ct.msgs:\n",
    "#     # Agg sender\n",
    "#     if msg[1] in senders.keys():\n",
    "#         senders[msg[1]] += 1\n",
    "#     else:\n",
    "#         senders[msg[1]] = 1\n",
    "# print(len(senders.keys()))"
   ]
  },
  {
   "cell_type": "code",
   "execution_count": 18,
   "metadata": {
    "extensions": {
     "jupyter_dashboards": {
      "version": 1,
      "views": {
       "grid_default": {
        "hidden": true
       },
       "report_default": {}
      }
     }
    }
   },
   "outputs": [],
   "source": [
    "# # Plot frequency\n",
    "# import seaborn as sns\n",
    "# import matplotlib.pyplot as plt\n",
    "\n",
    "# # f, ax = plt.subplots(figsize=(7, 7))\n",
    "# # ax.set(xscale=\"log\", yscale=\"log\")\n",
    "# # sns.distplot(list(senders.values()))\n",
    "# # plt.show()\n",
    "\n",
    "# plt.hist(list(senders.values()), bins=np.linspace(10, 100))\n",
    "# #np.logspace(np.log10(1.0),np.log10(100.0), 50))\n",
    "# plt.gca()\n",
    "# plt.show()"
   ]
  },
  {
   "cell_type": "code",
   "execution_count": null,
   "metadata": {
    "extensions": {
     "jupyter_dashboards": {
      "version": 1,
      "views": {
       "grid_default": {
        "hidden": true
       },
       "report_default": {}
      }
     }
    }
   },
   "outputs": [],
   "source": []
  }
 ],
 "metadata": {
  "extensions": {
   "jupyter_dashboards": {
    "activeView": "grid_default",
    "version": 1,
    "views": {
     "grid_default": {
      "cellMargin": 10,
      "defaultCellHeight": 20,
      "maxColumns": 12,
      "name": "grid",
      "type": "grid"
     },
     "report_default": {
      "name": "report",
      "type": "report"
     }
    }
   }
  },
  "kernelspec": {
   "display_name": "Python 3",
   "language": "python",
   "name": "python3"
  },
  "language_info": {
   "codemirror_mode": {
    "name": "ipython",
    "version": 3
   },
   "file_extension": ".py",
   "mimetype": "text/x-python",
   "name": "python",
   "nbconvert_exporter": "python",
   "pygments_lexer": "ipython3",
   "version": "3.6.0"
  }
 },
 "nbformat": 4,
 "nbformat_minor": 2
}
