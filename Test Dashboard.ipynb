{
 "cells": [
  {
   "cell_type": "code",
   "execution_count": 1,
   "metadata": {
    "extensions": {
     "jupyter_dashboards": {
      "version": 1,
      "views": {
       "grid_default": {
        "col": 0,
        "height": 13,
        "hidden": false,
        "row": 0,
        "width": 4
       },
       "report_default": {}
      }
     }
    }
   },
   "outputs": [
    {
     "data": {
      "text/html": [
       "<style>.container { width:100% !important; }</style>"
      ],
      "text/plain": [
       "<IPython.core.display.HTML object>"
      ]
     },
     "metadata": {},
     "output_type": "display_data"
    },
    {
     "data": {
      "text/html": [
       "<h1>Welcome to the IV Lab Dashboard!</h1><h2>This area titled 'Hidden Cells' is where the available Wizards outside of your workspace live<h2/><h3>To move these up into your workspace hover over and click the button in the top right</h3><h4>And to move widgets down from your workspace above hover over and click X the button in the top right</h4>"
      ],
      "text/plain": [
       "<IPython.core.display.HTML object>"
      ]
     },
     "metadata": {},
     "output_type": "display_data"
    }
   ],
   "source": [
    "%matplotlib inline\n",
    "\n",
    "import sys\n",
    "from datetime import datetime, timedelta\n",
    "import pandas as pd\n",
    "import numpy as np\n",
    "sys.path.append(\"/Users/arankhanna/Dropbox/Dolores/Iverson\")\n",
    "\n",
    "from IPython.display import display, display_javascript\n",
    "from IPython.display import clear_output\n",
    "import ipywidgets as widgets\n",
    "from IPython.display import Javascript\n",
    "from IPython.core.display import display, HTML\n",
    "from ipywidgets import IntSlider, Text, VBox\n",
    "# This shit should always run for dashboards\n",
    "display(HTML(\"<style>.container { width:100% !important; }</style>\"))\n",
    "\n",
    "# State for Dashboard\n",
    "done = False\n",
    "wizards = []\n",
    "\n",
    "from pipelines.io.markets.daily_marketcap_tracker import DailyMarketcapTracker\n",
    "from pipelines.io.code.git_tracker import GitTracker\n",
    "from pipelines.io.social.telegram_tracker import TelegramTracker\n",
    "from pipelines.io.markets.market_tracker import MarketTracker\n",
    "from pipelines.io.markets.orderbook_tracker import OrderbookTracker\n",
    "\n",
    "# Base pipelines\n",
    "dmt = DailyMarketcapTracker()\n",
    "gt = GitTracker() \n",
    "tt = TelegramTracker() \n",
    "mt = MarketTracker()\n",
    "ot = OrderbookTracker(mt)\n",
    "\n",
    "# Hi I'm a widget message\n",
    "display(HTML(\"<h1>Welcome to the IV Lab Dashboard!</h1>\\\n",
    "<h2>This area titled 'Hidden Cells' is where the available Wizards outside of your workspace live<h2/>\\\n",
    "<h3>To move these up into your workspace hover over and click the button in the top right</h3>\\\n",
    "<h4>And to move widgets down from your workspace above hover over and click X the button in the top right</h4>\"))"
   ]
  },
  {
   "cell_type": "code",
   "execution_count": 2,
   "metadata": {
    "extensions": {
     "jupyter_dashboards": {
      "version": 1,
      "views": {
       "grid_default": {
        "col": 3,
        "height": 22,
        "hidden": true,
        "row": 30,
        "width": 7
       },
       "report_default": {
        "hidden": true
       }
      }
     }
    }
   },
   "outputs": [],
   "source": [
    "# Start registry here\n",
    "from wizards.crypto_returns_wizard import DailyReturnsWizard\n",
    "if done:\n",
    "    wizards.append(DailyReturnsWizard(dmt))"
   ]
  },
  {
   "cell_type": "code",
   "execution_count": 3,
   "metadata": {
    "extensions": {
     "jupyter_dashboards": {
      "version": 1,
      "views": {
       "grid_default": {
        "col": 0,
        "height": 26,
        "hidden": true,
        "row": 10,
        "width": 5
       },
       "report_default": {
        "hidden": true
       }
      }
     }
    }
   },
   "outputs": [],
   "source": [
    "from wizards.crypto_daily_wizard import CandlestickWizard\n",
    "if done:\n",
    "    wizards.append(CandlestickWizard(dmt))"
   ]
  },
  {
   "cell_type": "code",
   "execution_count": 4,
   "metadata": {
    "extensions": {
     "jupyter_dashboards": {
      "version": 1,
      "views": {
       "grid_default": {
        "col": 6,
        "height": 18,
        "hidden": true,
        "row": 0,
        "width": 6
       },
       "report_default": {
        "hidden": true
       }
      }
     }
    },
    "scrolled": false
   },
   "outputs": [],
   "source": [
    "from wizards.git_wizard import CodeWizard\n",
    "if done:\n",
    "    wizards.append(CodeWizard(gt))"
   ]
  },
  {
   "cell_type": "code",
   "execution_count": 5,
   "metadata": {
    "extensions": {
     "jupyter_dashboards": {
      "version": 1,
      "views": {
       "grid_default": {
        "hidden": true
       },
       "report_default": {}
      }
     }
    }
   },
   "outputs": [],
   "source": [
    "from wizards.telegram_chat_wizard import ChatWizard\n",
    "if done:\n",
    "    wizards.append(ChatWizard(tt))"
   ]
  },
  {
   "cell_type": "code",
   "execution_count": 6,
   "metadata": {
    "extensions": {
     "jupyter_dashboards": {
      "version": 1,
      "views": {
       "grid_default": {
        "col": 0,
        "height": 4,
        "hidden": true,
        "row": 4,
        "width": 12
       },
       "report_default": {}
      }
     }
    }
   },
   "outputs": [],
   "source": [
    "from wizards.crypto_listing_wizard import MarketListingWizard\n",
    "\n",
    "if done:\n",
    "    wizards.append(MarketListingWizard(mt))"
   ]
  },
  {
   "cell_type": "code",
   "execution_count": 7,
   "metadata": {
    "extensions": {
     "jupyter_dashboards": {
      "version": 1,
      "views": {
       "grid_default": {
        "col": 0,
        "height": 4,
        "hidden": true,
        "row": 4,
        "width": 12
       },
       "report_default": {}
      }
     }
    }
   },
   "outputs": [],
   "source": [
    "from wizards.crypto_orderbook_wizard import OrderbookWizard\n",
    "\n",
    "if done:\n",
    "    wizards.append(OrderbookWizard(ot))"
   ]
  },
  {
   "cell_type": "code",
   "execution_count": 8,
   "metadata": {
    "extensions": {
     "jupyter_dashboards": {
      "version": 1,
      "views": {
       "grid_default": {
        "col": 4,
        "height": 7,
        "hidden": false,
        "row": 0,
        "width": 4
       },
       "report_default": {}
      }
     }
    }
   },
   "outputs": [
    {
     "data": {
      "application/vnd.jupyter.widget-view+json": {
       "model_id": "939f5211124c46949431fbdeeac36653",
       "version_major": 2,
       "version_minor": 0
      },
      "text/html": [
       "<p>Failed to display Jupyter Widget of type <code>Select</code>.</p>\n",
       "<p>\n",
       "  If you're reading this message in Jupyter Notebook or JupyterLab, it may mean\n",
       "  that the widgets JavaScript is still loading. If this message persists, it\n",
       "  likely means that the widgets JavaScript library is either not installed or\n",
       "  not enabled. See the <a href=\"https://ipywidgets.readthedocs.io/en/stable/user_install.html\">Jupyter\n",
       "  Widgets Documentation</a> for setup instructions.\n",
       "</p>\n",
       "<p>\n",
       "  If you're reading this message in another notebook frontend (for example, a static\n",
       "  rendering on GitHub or <a href=\"https://nbviewer.jupyter.org/\">NBViewer</a>),\n",
       "  it may mean that your frontend doesn't currently support widgets.\n",
       "</p>\n"
      ],
      "text/plain": [
       "Select(description=u'Wizards', options=('Market Listing', 'Chat Explorer', 'Returns Analysis', 'Orderbook Explorer', 'Code Explorer', 'Price Charts'), value='Market Listing')"
      ]
     },
     "metadata": {},
     "output_type": "display_data"
    },
    {
     "data": {
      "application/vnd.jupyter.widget-view+json": {
       "model_id": "3d22eee34a4249268f719ed4666ada92",
       "version_major": 2,
       "version_minor": 0
      },
      "text/html": [
       "<p>Failed to display Jupyter Widget of type <code>Button</code>.</p>\n",
       "<p>\n",
       "  If you're reading this message in Jupyter Notebook or JupyterLab, it may mean\n",
       "  that the widgets JavaScript is still loading. If this message persists, it\n",
       "  likely means that the widgets JavaScript library is either not installed or\n",
       "  not enabled. See the <a href=\"https://ipywidgets.readthedocs.io/en/stable/user_install.html\">Jupyter\n",
       "  Widgets Documentation</a> for setup instructions.\n",
       "</p>\n",
       "<p>\n",
       "  If you're reading this message in another notebook frontend (for example, a static\n",
       "  rendering on GitHub or <a href=\"https://nbviewer.jupyter.org/\">NBViewer</a>),\n",
       "  it may mean that your frontend doesn't currently support widgets.\n",
       "</p>\n"
      ],
      "text/plain": [
       "Button(description=u'Create New', style=ButtonStyle())"
      ]
     },
     "metadata": {},
     "output_type": "display_data"
    }
   ],
   "source": [
    "''' \n",
    "xxxxxxxxxxxxxx\n",
    "xxxxxxxxxxxxxx\n",
    "WIDGET WIDGET \n",
    "xxxxxxxxxxxxxx\n",
    "xxxxxxxxxxxxxx\n",
    "'''\n",
    "\n",
    "this_cell = 9 # This should be the last UI cell so use this ID specifically\n",
    "widget_map = {\n",
    "    'Returns Analysis':1,\n",
    "    'Price Charts':2,\n",
    "    'Code Explorer':3,\n",
    "    'Chat Explorer':4,\n",
    "    'Market Listing':5,\n",
    "    'Orderbook Explorer':6,\n",
    "}\n",
    "\n",
    "\n",
    "widget_types = widgets.Select(\n",
    "    options=widget_map.keys(),\n",
    "    description='Wizards',\n",
    "    disabled=False\n",
    ")\n",
    "\n",
    "def add_wizard(x):\n",
    "    widget_id = widget_map[widget_types.value]\n",
    "    \n",
    "    # JS to add and execute a cell w/ certain ID\n",
    "    js = '''\n",
    "    var cell_id = %s;\n",
    "    var all_cells =Jupyter.notebook.get_cells();\n",
    "    var cells = [all_cells[cell_id]]\n",
    "    Jupyter.notebook.clipboard = [];\n",
    "    var cell_json;\n",
    "    for (var i=0; i < cells.length; i++) {\n",
    "        cell_json = cells[i].toJSON();\n",
    "        if (cell_json.metadata.deletable !== undefined) {\n",
    "            delete cell_json.metadata.deletable;\n",
    "        }\n",
    "        Jupyter.notebook.clipboard.push(cell_json);\n",
    "    }\n",
    "    Jupyter.notebook.enable_paste();\n",
    "\n",
    "    // Paste\n",
    "    if (Jupyter.notebook.clipboard !== null && Jupyter.notebook.paste_enabled) {\n",
    "        var first_inserted = null;\n",
    "        for (var i = Jupyter.notebook.clipboard.length-1; i >= 0; i--) {\n",
    "            var cell_data = Jupyter.notebook.clipboard[i];\n",
    "            var new_cell = Jupyter.notebook.insert_cell_below(cell_data.cell_type);\n",
    "            new_cell.fromJSON(cell_data);\n",
    "            if (first_inserted === null) {\n",
    "                first_inserted = new_cell;\n",
    "            }\n",
    "        }\n",
    "        first_inserted.focus_cell();\n",
    "    }\n",
    "\n",
    "    // Execute\n",
    "    Jupyter.notebook.execute_cell();\n",
    "    $('button[data-dashboard-state=\"notebook\"]').click();\n",
    "    $('button[data-dashboard-state=\"grid\"]').click();   \n",
    "    '''%(str(widget_id))\n",
    "    \n",
    "    display_javascript(Javascript(js))\n",
    "        \n",
    "# def remove_wizards(x):\n",
    "#     global widget_ids\n",
    "#     id_list = [i[1] for i in widget_ids]\n",
    "    \n",
    "#     # JS to add and execute a cell w/ certain ID\n",
    "#     js = '''Jupyter.notebook.delete_cells(%s)'''%(str(id_list))\n",
    "    \n",
    "#     display_javascript(Javascript(js))\n",
    "#     widget_ids = []\n",
    "\n",
    "    \n",
    "add_widget_button = widgets.Button(description=\"Create New\")\n",
    "add_widget_button.on_click(add_wizard)\n",
    "# remove_widget_button = widgets.Button(description=\"Clear Wizards\")\n",
    "# remove_widget_button.on_click(remove_wizards)\n",
    "\n",
    "display(widget_types)\n",
    "display(add_widget_button)\n",
    "# display(remove_widget_button)"
   ]
  },
  {
   "cell_type": "code",
   "execution_count": null,
   "metadata": {
    "extensions": {
     "jupyter_dashboards": {
      "version": 1,
      "views": {
       "grid_default": {
        "hidden": true
       },
       "report_default": {}
      }
     }
    }
   },
   "outputs": [],
   "source": []
  },
  {
   "cell_type": "code",
   "execution_count": 9,
   "metadata": {
    "extensions": {
     "jupyter_dashboards": {
      "version": 1,
      "views": {
       "grid_default": {
        "hidden": true
       },
       "report_default": {}
      }
     }
    }
   },
   "outputs": [
    {
     "data": {
      "application/javascript": [
       "$('button[data-dashboard-state=\"grid\"]').click();"
      ]
     },
     "metadata": {},
     "output_type": "display_data"
    }
   ],
   "source": [
    "done = True\n",
    "js = '''$('button[data-dashboard-state=\"grid\"]').click();'''\n",
    "display_javascript(Javascript(js))"
   ]
  }
 ],
 "metadata": {
  "extensions": {
   "jupyter_dashboards": {
    "activeView": "grid_default",
    "version": 1,
    "views": {
     "grid_default": {
      "cellMargin": 10,
      "defaultCellHeight": 20,
      "maxColumns": 12,
      "name": "grid",
      "type": "grid"
     },
     "report_default": {
      "name": "report",
      "type": "report"
     }
    }
   }
  },
  "kernelspec": {
   "display_name": "Python 2",
   "language": "python",
   "name": "python2"
  },
  "language_info": {
   "codemirror_mode": {
    "name": "ipython",
    "version": 2
   },
   "file_extension": ".py",
   "mimetype": "text/x-python",
   "name": "python",
   "nbconvert_exporter": "python",
   "pygments_lexer": "ipython2",
   "version": "2.7.14"
  }
 },
 "nbformat": 4,
 "nbformat_minor": 2
}
